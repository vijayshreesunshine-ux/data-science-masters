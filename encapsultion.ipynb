{
  "nbformat": 4,
  "nbformat_minor": 0,
  "metadata": {
    "colab": {
      "provenance": [],
      "authorship_tag": "ABX9TyPzQUtsEVWjAnBJMkZKeKO5",
      "include_colab_link": true
    },
    "kernelspec": {
      "name": "python3",
      "display_name": "Python 3"
    },
    "language_info": {
      "name": "python"
    }
  },
  "cells": [
    {
      "cell_type": "markdown",
      "metadata": {
        "id": "view-in-github",
        "colab_type": "text"
      },
      "source": [
        "<a href=\"https://colab.research.google.com/github/vijayshreesunshine-ux/data-science-masters/blob/main/encapsultion.ipynb\" target=\"_parent\"><img src=\"https://colab.research.google.com/assets/colab-badge.svg\" alt=\"Open In Colab\"/></a>"
      ]
    },
    {
      "cell_type": "code",
      "execution_count": null,
      "metadata": {
        "id": "EhG-Zalrcl5v"
      },
      "outputs": [],
      "source": [
        "class car:\n",
        "    def __init__(self,name,model,color):\n",
        "        self.__name=name\n",
        "        self.__model=model\n",
        "        self.__color=color\n",
        "        self.__speed=0\n",
        "    def set_speed(self,speed):\n",
        "        self.__speed=0 if speed<0 else speed\n",
        "    def get_speed(self):\n",
        "        return self.__speed\n",
        "\n",
        "obj_car = car(\"Toyota\", \"Camry\", \"Blue\")"
      ]
    },
    {
      "cell_type": "code",
      "source": [
        "obj_car.get_speed()"
      ],
      "metadata": {
        "colab": {
          "base_uri": "https://localhost:8080/"
        },
        "id": "-JYQfhHVdzbG",
        "outputId": "7bfdd58b-8bc1-46e7-eee8-4eae52e10f43"
      },
      "execution_count": null,
      "outputs": [
        {
          "output_type": "execute_result",
          "data": {
            "text/plain": [
              "0"
            ]
          },
          "metadata": {},
          "execution_count": 5
        }
      ]
    },
    {
      "cell_type": "code",
      "source": [
        "obj_car.set_speed(100)"
      ],
      "metadata": {
        "id": "lZ_UY_7geLcH"
      },
      "execution_count": null,
      "outputs": []
    },
    {
      "cell_type": "code",
      "source": [
        "obj_car=car(\"Toyota\", \"Camry\", \"Blue\")"
      ],
      "metadata": {
        "id": "EWGW0mENeLe8"
      },
      "execution_count": null,
      "outputs": []
    },
    {
      "cell_type": "code",
      "source": [
        "class bank_acount:\n",
        "\n",
        "    def __init__(self , balance ):\n",
        "        self.__balance = balance\n",
        "\n",
        "    def deposit(self , amount ) :\n",
        "        self.__balance = self.__balance + amount\n",
        "\n",
        "    def withdraw(self , amount) :\n",
        "        if self.__balance >= amount :\n",
        "            self.__balance = self.__balance -amount\n",
        "            return True\n",
        "        else :\n",
        "            return False\n",
        "\n",
        "    def get_balance(self) :\n",
        "        return self.__balance"
      ],
      "metadata": {
        "id": "FhfsbSoveRm2"
      },
      "execution_count": null,
      "outputs": []
    },
    {
      "cell_type": "code",
      "source": [
        "obj_bank_account = bank_acount(1000)"
      ],
      "metadata": {
        "id": "SkD1qR5pefiP"
      },
      "execution_count": null,
      "outputs": []
    },
    {
      "cell_type": "code",
      "source": [
        "obj_bank_account.get_balance()"
      ],
      "metadata": {
        "colab": {
          "base_uri": "https://localhost:8080/"
        },
        "id": "Mc9DHYaYeflT",
        "outputId": "5333dda0-2b48-4294-9af5-7c5fac794448"
      },
      "execution_count": null,
      "outputs": [
        {
          "output_type": "execute_result",
          "data": {
            "text/plain": [
              "1000"
            ]
          },
          "metadata": {},
          "execution_count": 10
        }
      ]
    },
    {
      "cell_type": "code",
      "source": [
        "obj_bank_account.deposit(6000)"
      ],
      "metadata": {
        "id": "ZkuMisH1ef2i"
      },
      "execution_count": null,
      "outputs": []
    },
    {
      "cell_type": "code",
      "source": [
        "obj_bank_account.get_balance()"
      ],
      "metadata": {
        "colab": {
          "base_uri": "https://localhost:8080/"
        },
        "id": "pE-FthOhef5l",
        "outputId": "b6f9bcfe-ab6f-4318-be24-c359a26935d7"
      },
      "execution_count": null,
      "outputs": [
        {
          "output_type": "execute_result",
          "data": {
            "text/plain": [
              "7000"
            ]
          },
          "metadata": {},
          "execution_count": 12
        }
      ]
    },
    {
      "cell_type": "code",
      "source": [
        "obj_bank_account.withdraw(10000)"
      ],
      "metadata": {
        "colab": {
          "base_uri": "https://localhost:8080/"
        },
        "id": "I_C_Cc0CevjQ",
        "outputId": "951ddd62-90da-4ec9-b367-f4af55f0e4e0"
      },
      "execution_count": null,
      "outputs": [
        {
          "output_type": "execute_result",
          "data": {
            "text/plain": [
              "False"
            ]
          },
          "metadata": {},
          "execution_count": 13
        }
      ]
    },
    {
      "cell_type": "code",
      "source": [
        "obj_bank_account.withdraw(2000)"
      ],
      "metadata": {
        "id": "SeayTrRXevmg"
      },
      "execution_count": null,
      "outputs": []
    },
    {
      "cell_type": "code",
      "source": [
        "obj_bank_account.get_balance()"
      ],
      "metadata": {
        "id": "D37TWW70evpO"
      },
      "execution_count": null,
      "outputs": []
    },
    {
      "cell_type": "code",
      "source": [],
      "metadata": {
        "id": "pvlrdJGoev7J"
      },
      "execution_count": null,
      "outputs": []
    },
    {
      "cell_type": "code",
      "source": [],
      "metadata": {
        "id": "jAAhQd5jeLhm"
      },
      "execution_count": null,
      "outputs": []
    }
  ]
}