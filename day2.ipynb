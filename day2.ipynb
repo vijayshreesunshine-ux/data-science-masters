{
  "nbformat": 4,
  "nbformat_minor": 0,
  "metadata": {
    "colab": {
      "provenance": []
    },
    "kernelspec": {
      "name": "python3",
      "display_name": "Python 3"
    },
    "language_info": {
      "name": "python"
    }
  },
  "cells": [
    {
      "cell_type": "code",
      "execution_count": null,
      "metadata": {
        "colab": {
          "base_uri": "https://localhost:8080/"
        },
        "id": "XACCS7WtqwRg",
        "outputId": "f4b284d6-556d-4eb0-83c6-933a950f9cbc"
      },
      "outputs": [
        {
          "output_type": "stream",
          "name": "stdout",
          "text": [
            "my name is vijayshree and age is 20\n"
          ]
        }
      ],
      "source": [
        "name='vijayshree'\n",
        "age=20\n",
        "print('my name is {} and age is {}'.format(name,age))"
      ]
    },
    {
      "cell_type": "code",
      "source": [
        "##placeholder\n",
        "print('my name is {name} and age is {age}'.format(name='vijayshree',age=20))"
      ],
      "metadata": {
        "colab": {
          "base_uri": "https://localhost:8080/"
        },
        "id": "szoYQLW5tgM1",
        "outputId": "4dc8789c-dd87-4994-cb56-7fe81897dcff"
      },
      "execution_count": null,
      "outputs": [
        {
          "output_type": "stream",
          "name": "stdout",
          "text": [
            "my name is vijayshree and age is 20\n"
          ]
        }
      ]
    },
    {
      "cell_type": "code",
      "source": [
        "\n",
        "print(f'my name is {name} and age is {age}')"
      ],
      "metadata": {
        "colab": {
          "base_uri": "https://localhost:8080/"
        },
        "id": "tlqkagxirCDG",
        "outputId": "9f2cd2e0-1745-4544-bf5c-4eaf5c2ea4fb"
      },
      "execution_count": null,
      "outputs": [
        {
          "output_type": "stream",
          "name": "stdout",
          "text": [
            "my name is vijayshree and age is 20\n"
          ]
        }
      ]
    },
    {
      "cell_type": "code",
      "source": [
        "name='vijayshree'\n",
        "age=20\n",
        "degree='btech'\n",
        "print(f'my name is {name} and age is {age} and degree is {degree}')"
      ],
      "metadata": {
        "colab": {
          "base_uri": "https://localhost:8080/"
        },
        "id": "WwEvbW7tttzy",
        "outputId": "7d35fd84-20f5-480f-b8d0-7441490de438"
      },
      "execution_count": null,
      "outputs": [
        {
          "output_type": "stream",
          "name": "stdout",
          "text": [
            "my name is vijayshree and age is 20 and degree is btech\n"
          ]
        }
      ]
    },
    {
      "cell_type": "code",
      "source": [
        "Control Flow\n",
        "Decision Making statements\n",
        "It is kind of making decision during occurred situation of program execution and action can be taken according to specified conditions.\n",
        "Structure of decision making evaluate several expressions that provide True or False as a result.\n",
        "It is up to you to decide which type of action want to take and execute the statements based upon True and False.\n",
        "These are several topics of decision making which going to be discussed below:\n",
        "\n",
        "if\n",
        "if else\n",
        "if elif else\n",
        "Nested if\n",
        "Single Statement Suites\n",
        "\n",
        "[ ]\n",
        "22 cells hidden\n",
        "Loops statements\n",
        "while loop\n",
        "for loop\n",
        "nested loops\n",
        "Loop control(break,continue,pass)\n"
      ],
      "metadata": {
        "id": "8xB3pDwJtud5"
      },
      "execution_count": null,
      "outputs": []
    },
    {
      "cell_type": "code",
      "source": [
        "#while loop while else\n",
        "joining_age=20\n",
        "while joining_age<=60:\n",
        "    joining_age=joining_age+1\n",
        "    print(joining_age)\n",
        "else:\n",
        "    print(\"its time for retirement\")"
      ],
      "metadata": {
        "colab": {
          "base_uri": "https://localhost:8080/"
        },
        "id": "cGcv8EGpuyF5",
        "outputId": "63b050f0-47aa-47e0-b311-7bfb25a032ab"
      },
      "execution_count": null,
      "outputs": [
        {
          "output_type": "stream",
          "name": "stdout",
          "text": [
            "21\n",
            "22\n",
            "23\n",
            "24\n",
            "25\n",
            "26\n",
            "27\n",
            "28\n",
            "29\n",
            "30\n",
            "31\n",
            "32\n",
            "33\n",
            "34\n",
            "35\n",
            "36\n",
            "37\n",
            "38\n",
            "39\n",
            "40\n",
            "41\n",
            "42\n",
            "43\n",
            "44\n",
            "45\n",
            "46\n",
            "47\n",
            "48\n",
            "49\n",
            "50\n",
            "51\n",
            "52\n",
            "53\n",
            "54\n",
            "55\n",
            "56\n",
            "57\n",
            "58\n",
            "59\n",
            "60\n",
            "61\n",
            "its time for retirement\n"
          ]
        }
      ]
    },
    {
      "cell_type": "code",
      "source": [
        "### Atm machine with 1000 rs\n",
        "total_amount=1000\n",
        "while total_amount!=0:\n",
        "    print(total_amount)\n",
        "    total_amount=total_amount-100\n",
        "else:\n",
        "    print(\"Put more money bank people\")\n",
        "\n",
        "print(\"Hello All\")\n"
      ],
      "metadata": {
        "colab": {
          "base_uri": "https://localhost:8080/"
        },
        "id": "MG465Wr0vTMm",
        "outputId": "ec54f112-36d3-4f8c-8442-b0183582ead3"
      },
      "execution_count": null,
      "outputs": [
        {
          "output_type": "stream",
          "name": "stdout",
          "text": [
            "1000\n",
            "900\n",
            "800\n",
            "700\n",
            "600\n",
            "500\n",
            "400\n",
            "300\n",
            "200\n",
            "100\n",
            "Put more money bank people\n",
            "Hello All\n"
          ]
        }
      ]
    },
    {
      "cell_type": "code",
      "source": [
        "fruits_list = [\"Mango\",\"Cherry\",\"Apple\",\"Papaya\",\"Banana\"]"
      ],
      "metadata": {
        "id": "et7h3Lmrvepo"
      },
      "execution_count": null,
      "outputs": []
    },
    {
      "cell_type": "code",
      "source": [
        "fruits_list = [\"Mango\",\"Cherry\",\"Apple\",\"Papaya\",\"Banana\"]\n",
        "for a in fruits_list:\n",
        "    print(a)\n",
        "    if a==\"Cherry\":\n",
        "        print(\"The fruit is cherry\")"
      ],
      "metadata": {
        "colab": {
          "base_uri": "https://localhost:8080/"
        },
        "id": "-Q__ED8Rv1_C",
        "outputId": "70358f25-d2c8-4af7-a6ab-af3190083405"
      },
      "execution_count": null,
      "outputs": [
        {
          "output_type": "stream",
          "name": "stdout",
          "text": [
            "Mango\n",
            "Cherry\n",
            "The fruit is cherry\n",
            "Apple\n",
            "Papaya\n",
            "Banana\n"
          ]
        }
      ]
    },
    {
      "cell_type": "code",
      "source": [
        "fruit='mango'\n",
        "for x in fruit:\n",
        "    print(x, end='')"
      ],
      "metadata": {
        "colab": {
          "base_uri": "https://localhost:8080/"
        },
        "id": "7E2gYm0qwqQ-",
        "outputId": "ccb0e71d-e19b-4055-fabe-0601756972da"
      },
      "execution_count": null,
      "outputs": [
        {
          "output_type": "stream",
          "name": "stdout",
          "text": [
            "mango"
          ]
        }
      ]
    },
    {
      "cell_type": "code",
      "source": [
        "for i in range (0,2,7):\n",
        "   print(i)"
      ],
      "metadata": {
        "colab": {
          "base_uri": "https://localhost:8080/"
        },
        "id": "bNMBr2OEx8UI",
        "outputId": "7a2d5725-2941-4f03-dc9f-47bc2245852f"
      },
      "execution_count": null,
      "outputs": [
        {
          "output_type": "stream",
          "name": "stdout",
          "text": [
            "0\n"
          ]
        }
      ]
    },
    {
      "cell_type": "code",
      "source": [
        "## Nested loops## Nested loops\n",
        "n=7\n",
        "\n",
        "for i in range(0,n):\n",
        "    for j in range(0,i+1):\n",
        "\n",
        "        print(\"*\",end=\" \")\n",
        "    print(\"\\r\")\n",
        "n=7\n",
        "\n",
        "for i in range(0,n):\n",
        "    for j in range(0,i+1):\n",
        "        print(\"*\",end=\" \")\n",
        "    print('\\n')\n",
        "\n"
      ],
      "metadata": {
        "colab": {
          "base_uri": "https://localhost:8080/"
        },
        "id": "bZ1-X0-w0Zq5",
        "outputId": "cee8bc6f-49f0-475b-f2df-a9aba643427f"
      },
      "execution_count": 32,
      "outputs": [
        {
          "output_type": "stream",
          "name": "stdout",
          "text": [
            "* \r\n",
            "* * \r\n",
            "* * * \r\n",
            "* * * * \r\n",
            "* * * * * \r\n",
            "* * * * * * \r\n",
            "* * * * * * * \r\n",
            "* \n",
            "\n",
            "* * \n",
            "\n",
            "* * * \n",
            "\n",
            "* * * * \n",
            "\n",
            "* * * * * \n",
            "\n",
            "* * * * * * \n",
            "\n",
            "* * * * * * * \n",
            "\n"
          ]
        }
      ]
    },
    {
      "cell_type": "code",
      "source": [
        "##Loop controls\n",
        "## Break and continue\n",
        "fruits_list = [\"Mango\",\"Cherry\",\"Apple\",\"Papaya\",\"Banana\"]\n",
        "for i in fruits_list:\n",
        "    if i==\"Apple\":\n",
        "        print(\"The fruit is apple\")\n",
        "        break\n",
        "    print(i)\n",
        "for i in fruits_list:\n",
        "    if i==\"Apple\":\n",
        "        print(\"The fruit is apple\")\n",
        "        pass\n",
        "    print(i)\n",
        "##continue\n",
        "for i in fruits_list:\n",
        "    if i==\"Apple\":\n",
        "        print(\"The fruit is apple\")\n",
        "        continue\n",
        "    print(i)"
      ],
      "metadata": {
        "colab": {
          "base_uri": "https://localhost:8080/"
        },
        "id": "7jzlA1wX1VFw",
        "outputId": "ab76ea4d-85e2-4662-e5b3-26ef26488fac"
      },
      "execution_count": null,
      "outputs": [
        {
          "output_type": "stream",
          "name": "stdout",
          "text": [
            "Mango\n",
            "Cherry\n",
            "The fruit is apple\n",
            "Mango\n",
            "Cherry\n",
            "The fruit is apple\n",
            "Apple\n",
            "Papaya\n",
            "Banana\n",
            "Mango\n",
            "Cherry\n",
            "The fruit is apple\n",
            "Papaya\n",
            "Banana\n"
          ]
        }
      ]
    },
    {
      "cell_type": "code",
      "source": [],
      "metadata": {
        "id": "0BD_D24O1bjc"
      },
      "execution_count": null,
      "outputs": []
    },
    {
      "cell_type": "code",
      "source": [],
      "metadata": {
        "id": "VLMNU4cI1VIs"
      },
      "execution_count": null,
      "outputs": []
    }
  ]
}