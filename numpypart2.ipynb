{
  "nbformat": 4,
  "nbformat_minor": 0,
  "metadata": {
    "colab": {
      "provenance": [],
      "authorship_tag": "ABX9TyOm5rY7U7rKuXh8yuxCJxpv",
      "include_colab_link": true
    },
    "kernelspec": {
      "name": "python3",
      "display_name": "Python 3"
    },
    "language_info": {
      "name": "python"
    }
  },
  "cells": [
    {
      "cell_type": "markdown",
      "metadata": {
        "id": "view-in-github",
        "colab_type": "text"
      },
      "source": [
        "<a href=\"https://colab.research.google.com/github/vijayshreesunshine-ux/data-science-masters/blob/main/numpypart2.ipynb\" target=\"_parent\"><img src=\"https://colab.research.google.com/assets/colab-badge.svg\" alt=\"Open In Colab\"/></a>"
      ]
    },
    {
      "cell_type": "code",
      "execution_count": 1,
      "metadata": {
        "id": "ERa7TnL0jvcb"
      },
      "outputs": [],
      "source": [
        "import numpy as np"
      ]
    },
    {
      "cell_type": "code",
      "source": [
        "arr=np.array([1,2,3,4,5])"
      ],
      "metadata": {
        "id": "u1cIhhQ-j4oR"
      },
      "execution_count": 2,
      "outputs": []
    },
    {
      "cell_type": "code",
      "source": [
        "arr"
      ],
      "metadata": {
        "colab": {
          "base_uri": "https://localhost:8080/"
        },
        "id": "0YJlPJZfj4rZ",
        "outputId": "7ce0cd51-69ef-4aba-882f-a666af3c4443"
      },
      "execution_count": 3,
      "outputs": [
        {
          "output_type": "execute_result",
          "data": {
            "text/plain": [
              "array([1, 2, 3, 4, 5])"
            ]
          },
          "metadata": {},
          "execution_count": 3
        }
      ]
    },
    {
      "cell_type": "code",
      "source": [
        "arr=np.random.randint(1,10,(4,4))"
      ],
      "metadata": {
        "id": "HqkXmnBMj4ue"
      },
      "execution_count": 4,
      "outputs": []
    },
    {
      "cell_type": "code",
      "source": [
        "arr"
      ],
      "metadata": {
        "colab": {
          "base_uri": "https://localhost:8080/"
        },
        "id": "TXgViSR3j4xW",
        "outputId": "fe940236-84bb-42b7-9ff9-6893cbfde4d2"
      },
      "execution_count": 5,
      "outputs": [
        {
          "output_type": "execute_result",
          "data": {
            "text/plain": [
              "array([[4, 7, 1, 2],\n",
              "       [9, 9, 6, 8],\n",
              "       [8, 4, 1, 7],\n",
              "       [8, 5, 3, 5]])"
            ]
          },
          "metadata": {},
          "execution_count": 5
        }
      ]
    },
    {
      "cell_type": "code",
      "source": [
        "arr.T"
      ],
      "metadata": {
        "colab": {
          "base_uri": "https://localhost:8080/"
        },
        "id": "iKGQR9sLj4z-",
        "outputId": "cf85578d-699c-48f1-a395-0ba0bed28f40"
      },
      "execution_count": 6,
      "outputs": [
        {
          "output_type": "execute_result",
          "data": {
            "text/plain": [
              "array([[4, 9, 8, 8],\n",
              "       [7, 9, 4, 5],\n",
              "       [1, 6, 1, 3],\n",
              "       [2, 8, 7, 5]])"
            ]
          },
          "metadata": {},
          "execution_count": 6
        }
      ]
    },
    {
      "cell_type": "code",
      "source": [
        "arr.flatten()"
      ],
      "metadata": {
        "colab": {
          "base_uri": "https://localhost:8080/"
        },
        "id": "WcVMkJ5Fj42o",
        "outputId": "0ca94ccb-92d5-47c5-ce3d-e2dc7fc70d0c"
      },
      "execution_count": 7,
      "outputs": [
        {
          "output_type": "execute_result",
          "data": {
            "text/plain": [
              "array([4, 7, 1, 2, 9, 9, 6, 8, 8, 4, 1, 7, 8, 5, 3, 5])"
            ]
          },
          "metadata": {},
          "execution_count": 7
        }
      ]
    },
    {
      "cell_type": "code",
      "source": [
        "np.expand_dims(arr,axis=1)"
      ],
      "metadata": {
        "colab": {
          "base_uri": "https://localhost:8080/"
        },
        "id": "6tXxrEukj45N",
        "outputId": "68bdd882-dd7f-46ed-d2f1-cbf1cdc963f1"
      },
      "execution_count": 8,
      "outputs": [
        {
          "output_type": "execute_result",
          "data": {
            "text/plain": [
              "array([[[4, 7, 1, 2]],\n",
              "\n",
              "       [[9, 9, 6, 8]],\n",
              "\n",
              "       [[8, 4, 1, 7]],\n",
              "\n",
              "       [[8, 5, 3, 5]]])"
            ]
          },
          "metadata": {},
          "execution_count": 8
        }
      ]
    },
    {
      "cell_type": "code",
      "source": [
        "np.expand_dims(arr,axis=0)"
      ],
      "metadata": {
        "colab": {
          "base_uri": "https://localhost:8080/"
        },
        "id": "uT25kXDUj48E",
        "outputId": "8fca727b-de3b-44e0-98ca-9e8ac4571f54"
      },
      "execution_count": 9,
      "outputs": [
        {
          "output_type": "execute_result",
          "data": {
            "text/plain": [
              "array([[[4, 7, 1, 2],\n",
              "        [9, 9, 6, 8],\n",
              "        [8, 4, 1, 7],\n",
              "        [8, 5, 3, 5]]])"
            ]
          },
          "metadata": {},
          "execution_count": 9
        }
      ]
    },
    {
      "cell_type": "code",
      "source": [
        "data=np.array([[1],[2],[3]])"
      ],
      "metadata": {
        "id": "BRzwfsyrj4_c"
      },
      "execution_count": 10,
      "outputs": []
    },
    {
      "cell_type": "code",
      "source": [
        "np.squeeze(data)"
      ],
      "metadata": {
        "colab": {
          "base_uri": "https://localhost:8080/"
        },
        "id": "8wg9DoDVj5Ch",
        "outputId": "484f7c99-ea56-4efe-a6d9-4e55d374b547"
      },
      "execution_count": 11,
      "outputs": [
        {
          "output_type": "execute_result",
          "data": {
            "text/plain": [
              "array([1, 2, 3])"
            ]
          },
          "metadata": {},
          "execution_count": 11
        }
      ]
    },
    {
      "cell_type": "code",
      "source": [
        "np.repeat(data,4)"
      ],
      "metadata": {
        "colab": {
          "base_uri": "https://localhost:8080/"
        },
        "id": "TD8GI_zsj5FN",
        "outputId": "ef7c316f-5d21-48b4-b714-83a4c3a9c5a3"
      },
      "execution_count": 12,
      "outputs": [
        {
          "output_type": "execute_result",
          "data": {
            "text/plain": [
              "array([1, 1, 1, 1, 2, 2, 2, 2, 3, 3, 3, 3])"
            ]
          },
          "metadata": {},
          "execution_count": 12
        }
      ]
    },
    {
      "cell_type": "code",
      "source": [
        "np.roll(data,2)"
      ],
      "metadata": {
        "colab": {
          "base_uri": "https://localhost:8080/"
        },
        "id": "76fnclpT8Rwe",
        "outputId": "b3e611c9-d429-448e-87b8-24299ba1434b"
      },
      "execution_count": 13,
      "outputs": [
        {
          "output_type": "execute_result",
          "data": {
            "text/plain": [
              "array([[2],\n",
              "       [3],\n",
              "       [1]])"
            ]
          },
          "metadata": {},
          "execution_count": 13
        }
      ]
    },
    {
      "cell_type": "code",
      "source": [
        "np.diag(np.array([1,2,3,4]))"
      ],
      "metadata": {
        "colab": {
          "base_uri": "https://localhost:8080/"
        },
        "id": "PjYvVUns8RzV",
        "outputId": "531e9fa1-f8ca-4126-e1bc-01a30a8fb23a"
      },
      "execution_count": 14,
      "outputs": [
        {
          "output_type": "execute_result",
          "data": {
            "text/plain": [
              "array([[1, 0, 0, 0],\n",
              "       [0, 2, 0, 0],\n",
              "       [0, 0, 3, 0],\n",
              "       [0, 0, 0, 4]])"
            ]
          },
          "metadata": {},
          "execution_count": 14
        }
      ]
    },
    {
      "cell_type": "code",
      "source": [
        "arr1=np.random.randint(1,10,(3,4))\n",
        "arr2=np.random.randint(1,10,(3,4))"
      ],
      "metadata": {
        "id": "vmA8UZ2k8R2N"
      },
      "execution_count": 15,
      "outputs": []
    },
    {
      "cell_type": "code",
      "source": [
        "arr1+arr2"
      ],
      "metadata": {
        "colab": {
          "base_uri": "https://localhost:8080/"
        },
        "id": "9jovUES88R44",
        "outputId": "4c21ae26-5d96-4cb5-deb1-35d212db0b06"
      },
      "execution_count": 19,
      "outputs": [
        {
          "output_type": "execute_result",
          "data": {
            "text/plain": [
              "array([[10,  5, 11,  7],\n",
              "       [11,  5, 11, 10],\n",
              "       [ 3, 11,  7, 10]])"
            ]
          },
          "metadata": {},
          "execution_count": 19
        }
      ]
    },
    {
      "cell_type": "code",
      "source": [
        "arr1-arr2"
      ],
      "metadata": {
        "colab": {
          "base_uri": "https://localhost:8080/"
        },
        "id": "pOKYli-P8R75",
        "outputId": "213fb3cb-48a5-4095-f144-b82cf9ff18f8"
      },
      "execution_count": 17,
      "outputs": [
        {
          "output_type": "execute_result",
          "data": {
            "text/plain": [
              "array([[-2,  1,  3, -3],\n",
              "       [ 5,  3, -7, -8],\n",
              "       [ 1, -7, -1, -4]])"
            ]
          },
          "metadata": {},
          "execution_count": 17
        }
      ]
    },
    {
      "cell_type": "code",
      "source": [
        "arr1"
      ],
      "metadata": {
        "colab": {
          "base_uri": "https://localhost:8080/"
        },
        "id": "9hf_9Big8R_U",
        "outputId": "2b3c51f9-dcea-49e6-a2f9-e44ed7798247"
      },
      "execution_count": 20,
      "outputs": [
        {
          "output_type": "execute_result",
          "data": {
            "text/plain": [
              "array([[4, 3, 7, 2],\n",
              "       [8, 4, 2, 1],\n",
              "       [2, 2, 3, 3]])"
            ]
          },
          "metadata": {},
          "execution_count": 20
        }
      ]
    },
    {
      "cell_type": "code",
      "source": [
        "arr2"
      ],
      "metadata": {
        "colab": {
          "base_uri": "https://localhost:8080/"
        },
        "id": "AozBSjrX8SBz",
        "outputId": "77d7d7ff-a022-4c8a-c3d0-e033740184f2"
      },
      "execution_count": 21,
      "outputs": [
        {
          "output_type": "execute_result",
          "data": {
            "text/plain": [
              "array([[6, 2, 4, 5],\n",
              "       [3, 1, 9, 9],\n",
              "       [1, 9, 4, 7]])"
            ]
          },
          "metadata": {},
          "execution_count": 21
        }
      ]
    },
    {
      "cell_type": "code",
      "source": [
        "arr1^arr2"
      ],
      "metadata": {
        "colab": {
          "base_uri": "https://localhost:8080/"
        },
        "id": "JEhyqKO6j5IJ",
        "outputId": "e33973df-7f32-455a-bdfc-30b312f511b6"
      },
      "execution_count": 22,
      "outputs": [
        {
          "output_type": "execute_result",
          "data": {
            "text/plain": [
              "array([[ 2,  1,  3,  7],\n",
              "       [11,  5, 11,  8],\n",
              "       [ 3, 11,  7,  4]])"
            ]
          },
          "metadata": {},
          "execution_count": 22
        }
      ]
    },
    {
      "cell_type": "code",
      "source": [
        "~arr1"
      ],
      "metadata": {
        "colab": {
          "base_uri": "https://localhost:8080/"
        },
        "id": "aJ9DSGAh9bfm",
        "outputId": "5e31cda2-a247-45ee-f1df-82db85e17120"
      },
      "execution_count": 23,
      "outputs": [
        {
          "output_type": "execute_result",
          "data": {
            "text/plain": [
              "array([[-5, -4, -8, -3],\n",
              "       [-9, -5, -3, -2],\n",
              "       [-3, -3, -4, -4]])"
            ]
          },
          "metadata": {},
          "execution_count": 23
        }
      ]
    },
    {
      "cell_type": "code",
      "source": [
        "-arr1"
      ],
      "metadata": {
        "colab": {
          "base_uri": "https://localhost:8080/"
        },
        "id": "z0GeS3Dv9bie",
        "outputId": "5d77d153-b13a-4049-8cb9-f4d73bcafcab"
      },
      "execution_count": 24,
      "outputs": [
        {
          "output_type": "execute_result",
          "data": {
            "text/plain": [
              "array([[-4, -3, -7, -2],\n",
              "       [-8, -4, -2, -1],\n",
              "       [-2, -2, -3, -3]])"
            ]
          },
          "metadata": {},
          "execution_count": 24
        }
      ]
    },
    {
      "cell_type": "code",
      "source": [
        "arr=np.array(['sudh','kumar'])"
      ],
      "metadata": {
        "id": "LbcdIhKF9bl6"
      },
      "execution_count": 25,
      "outputs": []
    },
    {
      "cell_type": "code",
      "source": [
        "arr"
      ],
      "metadata": {
        "colab": {
          "base_uri": "https://localhost:8080/"
        },
        "id": "XLqnYmFc9bo2",
        "outputId": "63847441-dba0-4b3a-eaa6-583a70cded78"
      },
      "execution_count": 26,
      "outputs": [
        {
          "output_type": "execute_result",
          "data": {
            "text/plain": [
              "array(['sudh', 'kumar'], dtype='<U5')"
            ]
          },
          "metadata": {},
          "execution_count": 26
        }
      ]
    },
    {
      "cell_type": "code",
      "source": [
        "np.char.upper(arr)"
      ],
      "metadata": {
        "colab": {
          "base_uri": "https://localhost:8080/"
        },
        "id": "Y6D7OT9R9brl",
        "outputId": "c8a05c4c-79bc-4456-98b8-aa2af9ff3783"
      },
      "execution_count": 27,
      "outputs": [
        {
          "output_type": "execute_result",
          "data": {
            "text/plain": [
              "array(['SUDH', 'KUMAR'], dtype='<U5')"
            ]
          },
          "metadata": {},
          "execution_count": 27
        }
      ]
    },
    {
      "cell_type": "code",
      "source": [
        "np.char.capitalize(arr)"
      ],
      "metadata": {
        "colab": {
          "base_uri": "https://localhost:8080/"
        },
        "id": "elcngzwT9bum",
        "outputId": "b743d60c-eef4-4d58-bece-2e2e4a262843"
      },
      "execution_count": 28,
      "outputs": [
        {
          "output_type": "execute_result",
          "data": {
            "text/plain": [
              "array(['Sudh', 'Kumar'], dtype='<U5')"
            ]
          },
          "metadata": {},
          "execution_count": 28
        }
      ]
    },
    {
      "cell_type": "code",
      "source": [
        "np.char.title(arr)"
      ],
      "metadata": {
        "colab": {
          "base_uri": "https://localhost:8080/"
        },
        "id": "wk7t_AJr9bx2",
        "outputId": "aa1119b3-286a-4b5f-abea-db55139e52d6"
      },
      "execution_count": 29,
      "outputs": [
        {
          "output_type": "execute_result",
          "data": {
            "text/plain": [
              "array(['Sudh', 'Kumar'], dtype='<U5')"
            ]
          },
          "metadata": {},
          "execution_count": 29
        }
      ]
    },
    {
      "cell_type": "code",
      "source": [
        "arr1"
      ],
      "metadata": {
        "colab": {
          "base_uri": "https://localhost:8080/"
        },
        "id": "hwMCXHEK-2BF",
        "outputId": "bd1864f2-c9ac-44df-d401-3700c144b8dc"
      },
      "execution_count": 30,
      "outputs": [
        {
          "output_type": "execute_result",
          "data": {
            "text/plain": [
              "array([[4, 3, 7, 2],\n",
              "       [8, 4, 2, 1],\n",
              "       [2, 2, 3, 3]])"
            ]
          },
          "metadata": {},
          "execution_count": 30
        }
      ]
    },
    {
      "cell_type": "code",
      "source": [
        "np.sin(arr1)"
      ],
      "metadata": {
        "colab": {
          "base_uri": "https://localhost:8080/"
        },
        "id": "VAwbJifW-2Dz",
        "outputId": "aadd0465-7ee3-4bba-b283-63aecd9eabce"
      },
      "execution_count": 31,
      "outputs": [
        {
          "output_type": "execute_result",
          "data": {
            "text/plain": [
              "array([[-0.7568025 ,  0.14112001,  0.6569866 ,  0.90929743],\n",
              "       [ 0.98935825, -0.7568025 ,  0.90929743,  0.84147098],\n",
              "       [ 0.90929743,  0.90929743,  0.14112001,  0.14112001]])"
            ]
          },
          "metadata": {},
          "execution_count": 31
        }
      ]
    },
    {
      "cell_type": "code",
      "source": [
        "np.tan(arr1)"
      ],
      "metadata": {
        "colab": {
          "base_uri": "https://localhost:8080/"
        },
        "id": "JqApG_Up-2Gm",
        "outputId": "f070f0ae-2125-4f95-fc18-472c08eee617"
      },
      "execution_count": 32,
      "outputs": [
        {
          "output_type": "execute_result",
          "data": {
            "text/plain": [
              "array([[ 1.15782128, -0.14254654,  0.87144798, -2.18503986],\n",
              "       [-6.79971146,  1.15782128, -2.18503986,  1.55740772],\n",
              "       [-2.18503986, -2.18503986, -0.14254654, -0.14254654]])"
            ]
          },
          "metadata": {},
          "execution_count": 32
        }
      ]
    },
    {
      "cell_type": "code",
      "source": [
        "np.power(arr1,7)"
      ],
      "metadata": {
        "colab": {
          "base_uri": "https://localhost:8080/"
        },
        "id": "WKKsJY1G-2Jb",
        "outputId": "bb7e914f-f85d-4065-c9a0-63fc1bfd903b"
      },
      "execution_count": 33,
      "outputs": [
        {
          "output_type": "execute_result",
          "data": {
            "text/plain": [
              "array([[  16384,    2187,  823543,     128],\n",
              "       [2097152,   16384,     128,       1],\n",
              "       [    128,     128,    2187,    2187]])"
            ]
          },
          "metadata": {},
          "execution_count": 33
        }
      ]
    },
    {
      "cell_type": "code",
      "source": [
        "np.median(arr1)"
      ],
      "metadata": {
        "colab": {
          "base_uri": "https://localhost:8080/"
        },
        "id": "itEh4sXr-2MT",
        "outputId": "3bd13ba3-14d2-451c-c91d-ae70abd05789"
      },
      "execution_count": 34,
      "outputs": [
        {
          "output_type": "execute_result",
          "data": {
            "text/plain": [
              "np.float64(3.0)"
            ]
          },
          "metadata": {},
          "execution_count": 34
        }
      ]
    },
    {
      "cell_type": "code",
      "source": [
        "np.std(arr1)"
      ],
      "metadata": {
        "colab": {
          "base_uri": "https://localhost:8080/"
        },
        "id": "RYWTwfF8-2O9",
        "outputId": "66a81a27-62fe-41be-b093-fed453b2e2d6"
      },
      "execution_count": 35,
      "outputs": [
        {
          "output_type": "execute_result",
          "data": {
            "text/plain": [
              "np.float64(2.0190069065976197)"
            ]
          },
          "metadata": {},
          "execution_count": 35
        }
      ]
    },
    {
      "cell_type": "code",
      "source": [
        "np.var(arr1)"
      ],
      "metadata": {
        "colab": {
          "base_uri": "https://localhost:8080/"
        },
        "id": "ROIqY1pw-2Rj",
        "outputId": "00db55d7-7c15-46c3-98a3-7ba6c2b74b0a"
      },
      "execution_count": 36,
      "outputs": [
        {
          "output_type": "execute_result",
          "data": {
            "text/plain": [
              "np.float64(4.07638888888889)"
            ]
          },
          "metadata": {},
          "execution_count": 36
        }
      ]
    },
    {
      "cell_type": "code",
      "source": [
        "np.min(arr1)"
      ],
      "metadata": {
        "colab": {
          "base_uri": "https://localhost:8080/"
        },
        "id": "TgWx-_5R-2Uu",
        "outputId": "dcdcccd1-a705-4fca-c06e-1b7e36e472e9"
      },
      "execution_count": 37,
      "outputs": [
        {
          "output_type": "execute_result",
          "data": {
            "text/plain": [
              "np.int64(1)"
            ]
          },
          "metadata": {},
          "execution_count": 37
        }
      ]
    },
    {
      "cell_type": "code",
      "source": [
        "arr1-arr2"
      ],
      "metadata": {
        "colab": {
          "base_uri": "https://localhost:8080/"
        },
        "id": "4kEHzjDn-2Xh",
        "outputId": "603612a3-7f36-4cc3-ddb6-11fc0465ea03"
      },
      "execution_count": 38,
      "outputs": [
        {
          "output_type": "execute_result",
          "data": {
            "text/plain": [
              "array([[-2,  1,  3, -3],\n",
              "       [ 5,  3, -7, -8],\n",
              "       [ 1, -7, -1, -4]])"
            ]
          },
          "metadata": {},
          "execution_count": 38
        }
      ]
    },
    {
      "cell_type": "code",
      "source": [
        "np.subtract(arr1,arr2)"
      ],
      "metadata": {
        "colab": {
          "base_uri": "https://localhost:8080/"
        },
        "id": "YHPtaZQi-2a_",
        "outputId": "84fbec07-1607-4928-c590-a43776ef1551"
      },
      "execution_count": 40,
      "outputs": [
        {
          "output_type": "execute_result",
          "data": {
            "text/plain": [
              "array([[-2,  1,  3, -3],\n",
              "       [ 5,  3, -7, -8],\n",
              "       [ 1, -7, -1, -4]])"
            ]
          },
          "metadata": {},
          "execution_count": 40
        }
      ]
    },
    {
      "cell_type": "code",
      "source": [
        "np.mod(arr1,arr2)"
      ],
      "metadata": {
        "colab": {
          "base_uri": "https://localhost:8080/"
        },
        "id": "bjvz4o8x9b0h",
        "outputId": "dc647c57-cbee-4309-9e2f-07c397d2d839"
      },
      "execution_count": 41,
      "outputs": [
        {
          "output_type": "execute_result",
          "data": {
            "text/plain": [
              "array([[4, 1, 3, 2],\n",
              "       [2, 0, 2, 1],\n",
              "       [0, 2, 3, 3]])"
            ]
          },
          "metadata": {},
          "execution_count": 41
        }
      ]
    },
    {
      "cell_type": "code",
      "source": [
        "np.power(arr1,arr2)"
      ],
      "metadata": {
        "colab": {
          "base_uri": "https://localhost:8080/"
        },
        "id": "ovecGCk7Ag-e",
        "outputId": "91009f43-8d92-47b9-cad7-7a33cfdccf48"
      },
      "execution_count": 42,
      "outputs": [
        {
          "output_type": "execute_result",
          "data": {
            "text/plain": [
              "array([[4096,    9, 2401,   32],\n",
              "       [ 512,    4,  512,    1],\n",
              "       [   2,  512,   81, 2187]])"
            ]
          },
          "metadata": {},
          "execution_count": 42
        }
      ]
    },
    {
      "cell_type": "code",
      "source": [
        "np.mean(arr1)"
      ],
      "metadata": {
        "colab": {
          "base_uri": "https://localhost:8080/"
        },
        "id": "hfaDoKZ_AhBQ",
        "outputId": "ae057d42-a88f-43e3-e21e-c3c76b35726c"
      },
      "execution_count": 43,
      "outputs": [
        {
          "output_type": "execute_result",
          "data": {
            "text/plain": [
              "np.float64(3.4166666666666665)"
            ]
          },
          "metadata": {},
          "execution_count": 43
        }
      ]
    },
    {
      "cell_type": "code",
      "source": [
        "np.median(arr1)"
      ],
      "metadata": {
        "colab": {
          "base_uri": "https://localhost:8080/"
        },
        "id": "4IRnvzoFAhEe",
        "outputId": "01ecea13-9d2b-44be-f162-699265381ca7"
      },
      "execution_count": 44,
      "outputs": [
        {
          "output_type": "execute_result",
          "data": {
            "text/plain": [
              "np.float64(3.0)"
            ]
          },
          "metadata": {},
          "execution_count": 44
        }
      ]
    },
    {
      "cell_type": "code",
      "source": [
        "#sort,search,counting functions"
      ],
      "metadata": {
        "id": "sOZL3EfSAhHX"
      },
      "execution_count": 45,
      "outputs": []
    },
    {
      "cell_type": "code",
      "source": [
        "arr =np.array([2,3,4,5,6,67,98,54,32,12,354])"
      ],
      "metadata": {
        "id": "8rxqowgfAhKH"
      },
      "execution_count": 51,
      "outputs": []
    },
    {
      "cell_type": "code",
      "source": [
        "arr"
      ],
      "metadata": {
        "colab": {
          "base_uri": "https://localhost:8080/"
        },
        "id": "2MdzRJe3AhNX",
        "outputId": "ab8c9b0a-2ffc-4781-ea6a-fda532acfa10"
      },
      "execution_count": 52,
      "outputs": [
        {
          "output_type": "execute_result",
          "data": {
            "text/plain": [
              "array([  2,   3,   4,   5,   6,  67,  98,  54,  32,  12, 354])"
            ]
          },
          "metadata": {},
          "execution_count": 52
        }
      ]
    },
    {
      "cell_type": "code",
      "source": [
        "np.sort(arr)"
      ],
      "metadata": {
        "colab": {
          "base_uri": "https://localhost:8080/"
        },
        "id": "STXtij66AhP2",
        "outputId": "3c38b553-b377-42c9-dbc6-8d4132ec1dc1"
      },
      "execution_count": 53,
      "outputs": [
        {
          "output_type": "execute_result",
          "data": {
            "text/plain": [
              "array([  2,   3,   4,   5,   6,  12,  32,  54,  67,  98, 354])"
            ]
          },
          "metadata": {},
          "execution_count": 53
        }
      ]
    },
    {
      "cell_type": "code",
      "source": [
        "np.searchsorted(arr,34)"
      ],
      "metadata": {
        "colab": {
          "base_uri": "https://localhost:8080/"
        },
        "id": "fjlHLFeUAhSe",
        "outputId": "2c0249af-35d9-4fb6-ff68-fe148de3981e"
      },
      "execution_count": 54,
      "outputs": [
        {
          "output_type": "execute_result",
          "data": {
            "text/plain": [
              "np.int64(5)"
            ]
          },
          "metadata": {},
          "execution_count": 54
        }
      ]
    },
    {
      "cell_type": "code",
      "source": [
        "arr1=np.array([0,345,454,0,0,0,0,0])"
      ],
      "metadata": {
        "id": "gmsMd4T1AhV2"
      },
      "execution_count": 55,
      "outputs": []
    },
    {
      "cell_type": "code",
      "source": [
        "np.count_nonzero(arr1)"
      ],
      "metadata": {
        "colab": {
          "base_uri": "https://localhost:8080/"
        },
        "id": "_GW5vUh_Bz3k",
        "outputId": "b83b4fa5-2727-42df-9652-0c9ad0fd7dec"
      },
      "execution_count": 56,
      "outputs": [
        {
          "output_type": "execute_result",
          "data": {
            "text/plain": [
              "2"
            ]
          },
          "metadata": {},
          "execution_count": 56
        }
      ]
    },
    {
      "cell_type": "code",
      "source": [
        "np.where(arr1>0)"
      ],
      "metadata": {
        "colab": {
          "base_uri": "https://localhost:8080/"
        },
        "id": "VbKQjA9jBz6d",
        "outputId": "5b3838e0-94cf-4a89-e3ce-e2b9ee68e519"
      },
      "execution_count": 57,
      "outputs": [
        {
          "output_type": "execute_result",
          "data": {
            "text/plain": [
              "(array([1, 2]),)"
            ]
          },
          "metadata": {},
          "execution_count": 57
        }
      ]
    },
    {
      "cell_type": "code",
      "source": [
        "np.extract(arr>2,arr)"
      ],
      "metadata": {
        "colab": {
          "base_uri": "https://localhost:8080/"
        },
        "id": "F4I-tsjiBz9F",
        "outputId": "0b25a142-5f3d-46c3-e77d-3b4cab1ca1ce"
      },
      "execution_count": 58,
      "outputs": [
        {
          "output_type": "execute_result",
          "data": {
            "text/plain": [
              "array([  3,   4,   5,   6,  67,  98,  54,  32,  12, 354])"
            ]
          },
          "metadata": {},
          "execution_count": 58
        }
      ]
    },
    {
      "cell_type": "code",
      "source": [
        "#byte swappinng"
      ],
      "metadata": {
        "id": "pkM5t9cmBz_2"
      },
      "execution_count": 59,
      "outputs": []
    },
    {
      "cell_type": "code",
      "source": [
        "arr1"
      ],
      "metadata": {
        "colab": {
          "base_uri": "https://localhost:8080/"
        },
        "id": "upx0P4KyB0DZ",
        "outputId": "338078c5-554e-4ac0-fcec-f1bb1b48c62e"
      },
      "execution_count": 60,
      "outputs": [
        {
          "output_type": "execute_result",
          "data": {
            "text/plain": [
              "array([  0, 345, 454,   0,   0,   0,   0,   0])"
            ]
          },
          "metadata": {},
          "execution_count": 60
        }
      ]
    },
    {
      "cell_type": "code",
      "source": [
        "arr.byteswap()"
      ],
      "metadata": {
        "colab": {
          "base_uri": "https://localhost:8080/"
        },
        "id": "XmOTtMkiByjC",
        "outputId": "4e11d602-a4bc-4deb-8211-e6f1a5524a4a"
      },
      "execution_count": 61,
      "outputs": [
        {
          "output_type": "execute_result",
          "data": {
            "text/plain": [
              "array([ 144115188075855872,  216172782113783808,  288230376151711744,\n",
              "        360287970189639680,  432345564227567616, 4827858800541171712,\n",
              "       7061644215716937728, 3891110078048108544, 2305843009213693952,\n",
              "        864691128455135232, 7061925690693648384])"
            ]
          },
          "metadata": {},
          "execution_count": 61
        }
      ]
    },
    {
      "cell_type": "code",
      "source": [
        "arr"
      ],
      "metadata": {
        "colab": {
          "base_uri": "https://localhost:8080/"
        },
        "id": "SDjnaxGFBymJ",
        "outputId": "00ed8ff2-d466-47cd-cc5a-98da5928b74a"
      },
      "execution_count": 62,
      "outputs": [
        {
          "output_type": "execute_result",
          "data": {
            "text/plain": [
              "array([  2,   3,   4,   5,   6,  67,  98,  54,  32,  12, 354])"
            ]
          },
          "metadata": {},
          "execution_count": 62
        }
      ]
    },
    {
      "cell_type": "code",
      "source": [
        "arr.byteswap(True)"
      ],
      "metadata": {
        "colab": {
          "base_uri": "https://localhost:8080/"
        },
        "id": "HGFHM7ZJBypH",
        "outputId": "2bae1c1d-9f1f-4e58-afb3-8c979980ad3f"
      },
      "execution_count": 63,
      "outputs": [
        {
          "output_type": "execute_result",
          "data": {
            "text/plain": [
              "array([ 144115188075855872,  216172782113783808,  288230376151711744,\n",
              "        360287970189639680,  432345564227567616, 4827858800541171712,\n",
              "       7061644215716937728, 3891110078048108544, 2305843009213693952,\n",
              "        864691128455135232, 7061925690693648384])"
            ]
          },
          "metadata": {},
          "execution_count": 63
        }
      ]
    },
    {
      "cell_type": "code",
      "source": [
        "arr"
      ],
      "metadata": {
        "colab": {
          "base_uri": "https://localhost:8080/"
        },
        "id": "N6hzNg60BysS",
        "outputId": "2ac764d7-9b45-47e2-fa55-ab5d539132fd"
      },
      "execution_count": 64,
      "outputs": [
        {
          "output_type": "execute_result",
          "data": {
            "text/plain": [
              "array([ 144115188075855872,  216172782113783808,  288230376151711744,\n",
              "        360287970189639680,  432345564227567616, 4827858800541171712,\n",
              "       7061644215716937728, 3891110078048108544, 2305843009213693952,\n",
              "        864691128455135232, 7061925690693648384])"
            ]
          },
          "metadata": {},
          "execution_count": 64
        }
      ]
    },
    {
      "cell_type": "code",
      "source": [
        "arr1"
      ],
      "metadata": {
        "colab": {
          "base_uri": "https://localhost:8080/"
        },
        "id": "q4Jh2lF7Byvv",
        "outputId": "442574e9-adf9-4ccf-aca3-0db8aabaf68e"
      },
      "execution_count": 65,
      "outputs": [
        {
          "output_type": "execute_result",
          "data": {
            "text/plain": [
              "array([  0, 345, 454,   0,   0,   0,   0,   0])"
            ]
          },
          "metadata": {},
          "execution_count": 65
        }
      ]
    },
    {
      "cell_type": "code",
      "source": [
        "a=np.copy(arr1)"
      ],
      "metadata": {
        "id": "GDfe77FLC44n"
      },
      "execution_count": 66,
      "outputs": []
    },
    {
      "cell_type": "code",
      "source": [
        "b=arr1.view()\n",
        "#or b=arr1 swallow copy case"
      ],
      "metadata": {
        "id": "M0yHl2q0Byyh"
      },
      "execution_count": 67,
      "outputs": []
    },
    {
      "cell_type": "code",
      "source": [
        "b"
      ],
      "metadata": {
        "colab": {
          "base_uri": "https://localhost:8080/"
        },
        "id": "0GuaK9NHBy16",
        "outputId": "6da3aef0-a1f9-44ff-c2bd-17acba6b54f5"
      },
      "execution_count": 68,
      "outputs": [
        {
          "output_type": "execute_result",
          "data": {
            "text/plain": [
              "array([  0, 345, 454,   0,   0,   0,   0,   0])"
            ]
          },
          "metadata": {},
          "execution_count": 68
        }
      ]
    },
    {
      "cell_type": "code",
      "source": [
        "b[0]=234"
      ],
      "metadata": {
        "id": "UJCtR-B7DNAB"
      },
      "execution_count": 69,
      "outputs": []
    },
    {
      "cell_type": "code",
      "source": [
        " b"
      ],
      "metadata": {
        "colab": {
          "base_uri": "https://localhost:8080/"
        },
        "id": "D_7EaxDKDNDJ",
        "outputId": "c83ea1fb-e0b3-4643-9059-3f7ecedee762"
      },
      "execution_count": 70,
      "outputs": [
        {
          "output_type": "execute_result",
          "data": {
            "text/plain": [
              "array([234, 345, 454,   0,   0,   0,   0,   0])"
            ]
          },
          "metadata": {},
          "execution_count": 70
        }
      ]
    },
    {
      "cell_type": "code",
      "source": [
        "arr1"
      ],
      "metadata": {
        "colab": {
          "base_uri": "https://localhost:8080/"
        },
        "id": "Fj5eEs8kDUAt",
        "outputId": "badafba0-f31c-44c7-b7d6-fb8ef1fe7009"
      },
      "execution_count": 71,
      "outputs": [
        {
          "output_type": "execute_result",
          "data": {
            "text/plain": [
              "array([234, 345, 454,   0,   0,   0,   0,   0])"
            ]
          },
          "metadata": {},
          "execution_count": 71
        }
      ]
    },
    {
      "cell_type": "code",
      "source": [
        "#matrix library"
      ],
      "metadata": {
        "id": "VRTGQ0YyDNGI"
      },
      "execution_count": 72,
      "outputs": []
    },
    {
      "cell_type": "code",
      "source": [
        "import numpy.matlib as nm"
      ],
      "metadata": {
        "id": "t2f_Z7iQDNJG"
      },
      "execution_count": 73,
      "outputs": []
    },
    {
      "cell_type": "code",
      "source": [
        "nm.zeros(5)"
      ],
      "metadata": {
        "colab": {
          "base_uri": "https://localhost:8080/"
        },
        "id": "3cwI8uJ2DNMF",
        "outputId": "d044f0d4-3923-46f7-8525-74c808ae1bba"
      },
      "execution_count": 74,
      "outputs": [
        {
          "output_type": "execute_result",
          "data": {
            "text/plain": [
              "matrix([[0., 0., 0., 0., 0.]])"
            ]
          },
          "metadata": {},
          "execution_count": 74
        }
      ]
    },
    {
      "cell_type": "code",
      "source": [
        "nm.ones((3,4))"
      ],
      "metadata": {
        "colab": {
          "base_uri": "https://localhost:8080/"
        },
        "id": "5skKBjy_DNO3",
        "outputId": "9302b73a-b2e2-41b7-8734-d1406e753097"
      },
      "execution_count": 75,
      "outputs": [
        {
          "output_type": "execute_result",
          "data": {
            "text/plain": [
              "matrix([[1., 1., 1., 1.],\n",
              "        [1., 1., 1., 1.],\n",
              "        [1., 1., 1., 1.]])"
            ]
          },
          "metadata": {},
          "execution_count": 75
        }
      ]
    },
    {
      "cell_type": "code",
      "source": [
        "nm.eye(4)"
      ],
      "metadata": {
        "colab": {
          "base_uri": "https://localhost:8080/"
        },
        "id": "LnjZElpHD47m",
        "outputId": "89b3bee7-b9af-49a2-e01c-726230c385d6"
      },
      "execution_count": 76,
      "outputs": [
        {
          "output_type": "execute_result",
          "data": {
            "text/plain": [
              "matrix([[1., 0., 0., 0.],\n",
              "        [0., 1., 0., 0.],\n",
              "        [0., 0., 1., 0.],\n",
              "        [0., 0., 0., 1.]])"
            ]
          },
          "metadata": {},
          "execution_count": 76
        }
      ]
    },
    {
      "cell_type": "code",
      "source": [
        "#linear algebra"
      ],
      "metadata": {
        "id": "QTkVi-PAD4-m"
      },
      "execution_count": 77,
      "outputs": []
    },
    {
      "cell_type": "code",
      "source": [
        "arr1"
      ],
      "metadata": {
        "colab": {
          "base_uri": "https://localhost:8080/"
        },
        "id": "pOEfU1bfD5Bt",
        "outputId": "638a4768-78af-4d6c-e027-f5db3d499be1"
      },
      "execution_count": 78,
      "outputs": [
        {
          "output_type": "execute_result",
          "data": {
            "text/plain": [
              "array([234, 345, 454,   0,   0,   0,   0,   0])"
            ]
          },
          "metadata": {},
          "execution_count": 78
        }
      ]
    },
    {
      "cell_type": "code",
      "source": [
        "arr2"
      ],
      "metadata": {
        "colab": {
          "base_uri": "https://localhost:8080/"
        },
        "id": "jJMhIFmID5Ee",
        "outputId": "322553ac-1620-4831-e6d2-e79a2c2c3134"
      },
      "execution_count": 79,
      "outputs": [
        {
          "output_type": "execute_result",
          "data": {
            "text/plain": [
              "array([[6, 2, 4, 5],\n",
              "       [3, 1, 9, 9],\n",
              "       [1, 9, 4, 7]])"
            ]
          },
          "metadata": {},
          "execution_count": 79
        }
      ]
    },
    {
      "cell_type": "code",
      "source": [
        "arr1 = np.random.randint([[2,3],[4,5]])"
      ],
      "metadata": {
        "id": "g7MD1uLcD5H8"
      },
      "execution_count": 81,
      "outputs": []
    },
    {
      "cell_type": "code",
      "source": [
        "arr2=np.random.randint([[5,3],[2,5]])"
      ],
      "metadata": {
        "id": "Agz4XGAqEnvE"
      },
      "execution_count": 82,
      "outputs": []
    },
    {
      "cell_type": "code",
      "source": [
        "arr2"
      ],
      "metadata": {
        "colab": {
          "base_uri": "https://localhost:8080/"
        },
        "id": "Ylxdw-R_En0M",
        "outputId": "7f710abc-eed3-4c22-81fb-43e9db6e52aa"
      },
      "execution_count": 83,
      "outputs": [
        {
          "output_type": "execute_result",
          "data": {
            "text/plain": [
              "array([[3, 0],\n",
              "       [0, 0]])"
            ]
          },
          "metadata": {},
          "execution_count": 83
        }
      ]
    },
    {
      "cell_type": "code",
      "source": [
        "arr1"
      ],
      "metadata": {
        "colab": {
          "base_uri": "https://localhost:8080/"
        },
        "id": "eCS8wF6PEn37",
        "outputId": "91bebae9-a76b-4159-cc04-bcd2a7134bbe"
      },
      "execution_count": 84,
      "outputs": [
        {
          "output_type": "execute_result",
          "data": {
            "text/plain": [
              "array([[1, 2],\n",
              "       [3, 0]])"
            ]
          },
          "metadata": {},
          "execution_count": 84
        }
      ]
    },
    {
      "cell_type": "code",
      "source": [
        "np.dot (arr1,arr2)"
      ],
      "metadata": {
        "colab": {
          "base_uri": "https://localhost:8080/"
        },
        "id": "dw04eYUgEn7j",
        "outputId": "b5859407-eff5-47a2-dd65-25b6326110bd"
      },
      "execution_count": 85,
      "outputs": [
        {
          "output_type": "execute_result",
          "data": {
            "text/plain": [
              "array([[3, 0],\n",
              "       [9, 0]])"
            ]
          },
          "metadata": {},
          "execution_count": 85
        }
      ]
    },
    {
      "cell_type": "code",
      "source": [
        "arr1@arr2"
      ],
      "metadata": {
        "colab": {
          "base_uri": "https://localhost:8080/"
        },
        "id": "EDLgFdHaEn_L",
        "outputId": "6557edad-f1d8-4c0e-b19a-9e1f80a12d19"
      },
      "execution_count": 86,
      "outputs": [
        {
          "output_type": "execute_result",
          "data": {
            "text/plain": [
              "array([[3, 0],\n",
              "       [9, 0]])"
            ]
          },
          "metadata": {},
          "execution_count": 86
        }
      ]
    }
  ]
}