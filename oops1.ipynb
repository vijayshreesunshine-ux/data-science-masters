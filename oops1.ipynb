{
  "nbformat": 4,
  "nbformat_minor": 0,
  "metadata": {
    "colab": {
      "provenance": [],
      "authorship_tag": "ABX9TyP4WLYKZs7DLs9Q08IN9W0m",
      "include_colab_link": true
    },
    "kernelspec": {
      "name": "python3",
      "display_name": "Python 3"
    },
    "language_info": {
      "name": "python"
    }
  },
  "cells": [
    {
      "cell_type": "markdown",
      "metadata": {
        "id": "view-in-github",
        "colab_type": "text"
      },
      "source": [
        "<a href=\"https://colab.research.google.com/github/vijayshreesunshine-ux/data-science-masters/blob/main/oops1.ipynb\" target=\"_parent\"><img src=\"https://colab.research.google.com/assets/colab-badge.svg\" alt=\"Open In Colab\"/></a>"
      ]
    },
    {
      "cell_type": "code",
      "source": [
        "oops is object oriented programming language\n"
      ],
      "metadata": {
        "id": "D0CVBXyAPX-d"
      },
      "execution_count": null,
      "outputs": []
    },
    {
      "cell_type": "code",
      "execution_count": null,
      "metadata": {
        "colab": {
          "base_uri": "https://localhost:8080/"
        },
        "id": "YSNuY6bWM97A",
        "outputId": "eab73263-11d8-4af6-92f8-963bcb81b0d5"
      },
      "outputs": [
        {
          "output_type": "stream",
          "name": "stdout",
          "text": [
            "<class 'int'>\n"
          ]
        }
      ],
      "source": [
        "a=1\n",
        "print(type(a))\n"
      ]
    },
    {
      "cell_type": "code",
      "source": [
        "type(a)\n"
      ],
      "metadata": {
        "colab": {
          "base_uri": "https://localhost:8080/"
        },
        "id": "H4PT2TsJNQ8l",
        "outputId": "ecc42031-9bc7-485d-b477-df09bba79220"
      },
      "execution_count": null,
      "outputs": [
        {
          "output_type": "execute_result",
          "data": {
            "text/plain": [
              "int"
            ]
          },
          "metadata": {},
          "execution_count": 7
        }
      ]
    },
    {
      "cell_type": "code",
      "source": [
        "class test:\n",
        "  pass\n"
      ],
      "metadata": {
        "id": "WPSpqbjkPqhN"
      },
      "execution_count": null,
      "outputs": []
    },
    {
      "cell_type": "code",
      "source": [
        "class test:\n",
        "  pass\n",
        "\n",
        "a=test()\n",
        "print(type(a))"
      ],
      "metadata": {
        "colab": {
          "base_uri": "https://localhost:8080/"
        },
        "id": "-bSNIbe3Pqv_",
        "outputId": "4851b41f-ecf1-4d9a-a8ca-cf38e9d826fd"
      },
      "execution_count": null,
      "outputs": [
        {
          "output_type": "stream",
          "name": "stdout",
          "text": [
            "<class '__main__.test'>\n"
          ]
        }
      ]
    },
    {
      "cell_type": "code",
      "source": [
        "class pwskills:\n",
        "  def welcome_msg(self):\n",
        "    print(\"welcome to pwskills\")"
      ],
      "metadata": {
        "id": "d0vb4yWnPqz1"
      },
      "execution_count": null,
      "outputs": []
    },
    {
      "cell_type": "code",
      "source": [
        "class pwskills:\n",
        "  def welcome_msg(self):\n",
        "    print(\"welcome to pwskills\")\n",
        "\n",
        "rohan=pwskills()"
      ],
      "metadata": {
        "id": "8cUL30JzQMIC"
      },
      "execution_count": null,
      "outputs": []
    },
    {
      "cell_type": "code",
      "source": [
        "rohan.welcome_msg()"
      ],
      "metadata": {
        "colab": {
          "base_uri": "https://localhost:8080/"
        },
        "id": "dHlEEiTpQMK7",
        "outputId": "ce60f95d-3944-4d77-d252-21e436cfa8cb"
      },
      "execution_count": null,
      "outputs": [
        {
          "output_type": "stream",
          "name": "stdout",
          "text": [
            "welcome to pwskills\n"
          ]
        }
      ]
    },
    {
      "cell_type": "code",
      "source": [
        "class pwskills1:\n",
        "  def__init__(self,phone_number,email_id,student_id):\n",
        "    self.phone_number=phone_number\n",
        "    self.email_id=email_id\n",
        "    self.student_id=student_id\n",
        "  def return_student_details(self):\n",
        "    return"
      ],
      "metadata": {
        "id": "CxNT7FHTQMOi"
      },
      "execution_count": null,
      "outputs": []
    },
    {
      "cell_type": "code",
      "source": [
        "class pwskills1:\n",
        "  def __init__(self,phone_number,email_id,student_id):\n",
        "    self.phone_number=phone_number\n",
        "    self.email_id=email_id\n",
        "    self.student_id=student_id\n",
        "\n",
        "sohn=pwskills1(999,40,45)\n",
        "sohn.phone_number"
      ],
      "metadata": {
        "colab": {
          "base_uri": "https://localhost:8080/"
        },
        "id": "2-7Lhb12QMSM",
        "outputId": "9e88da1c-0b90-4a32-d5e4-62bb7bbf7874"
      },
      "execution_count": null,
      "outputs": [
        {
          "output_type": "execute_result",
          "data": {
            "text/plain": [
              "999"
            ]
          },
          "metadata": {},
          "execution_count": 25
        }
      ]
    },
    {
      "cell_type": "code",
      "source": [
        "you can use any parmeter insted of self\n",
        "instance is a object of a class\n",
        "attribute is a variable of a class\n",
        "method is a function of a class"
      ],
      "metadata": {
        "id": "MSBLIS22S23L"
      },
      "execution_count": null,
      "outputs": []
    },
    {
      "cell_type": "code",
      "source": [],
      "metadata": {
        "id": "aUeGpAmpS27D"
      },
      "execution_count": null,
      "outputs": []
    },
    {
      "cell_type": "code",
      "source": [],
      "metadata": {
        "id": "K-qDyWBxS3SE"
      },
      "execution_count": null,
      "outputs": []
    },
    {
      "cell_type": "code",
      "source": [],
      "metadata": {
        "id": "VVIqqbEkS3h6"
      },
      "execution_count": null,
      "outputs": []
    },
    {
      "cell_type": "code",
      "source": [],
      "metadata": {
        "id": "tto4KBYnS3x_"
      },
      "execution_count": null,
      "outputs": []
    }
  ]
}