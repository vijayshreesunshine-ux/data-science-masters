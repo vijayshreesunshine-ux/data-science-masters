{
  "nbformat": 4,
  "nbformat_minor": 0,
  "metadata": {
    "colab": {
      "provenance": []
    },
    "kernelspec": {
      "name": "python3",
      "display_name": "Python 3"
    },
    "language_info": {
      "name": "python"
    }
  },
  "cells": [
    {
      "cell_type": "code",
      "execution_count": null,
      "metadata": {
        "colab": {
          "base_uri": "https://localhost:8080/"
        },
        "id": "1ibbvJ37WY3X",
        "outputId": "9f20587e-5438-4e72-9cb6-687222602c3a"
      },
      "outputs": [
        {
          "output_type": "stream",
          "name": "stdout",
          "text": [
            "division by zero\n"
          ]
        }
      ],
      "source": [
        "try:\n",
        "  a=10\n",
        "  10/0\n",
        "except ZeroDivisionError as e:\n",
        "  print(e)"
      ]
    },
    {
      "cell_type": "code",
      "source": [
        "try:\n",
        "    int(\"vij\")\n",
        "except (ValueError,TypeError) as e:\n",
        "    print(e)"
      ],
      "metadata": {
        "colab": {
          "base_uri": "https://localhost:8080/"
        },
        "id": "vxudOEthWgwI",
        "outputId": "ff2b3501-31a7-4458-9b5f-c834890cdeeb"
      },
      "execution_count": null,
      "outputs": [
        {
          "output_type": "stream",
          "name": "stdout",
          "text": [
            "invalid literal for int() with base 10: 'vij'\n"
          ]
        }
      ]
    },
    {
      "cell_type": "code",
      "source": [
        "try:\n",
        "    import vij\n",
        "except ImportError as e:\n",
        "    print(e)"
      ],
      "metadata": {
        "colab": {
          "base_uri": "https://localhost:8080/"
        },
        "id": "toN2nV8vWg7n",
        "outputId": "a9d914e9-ca06-4392-c31d-3dfb629d359a"
      },
      "execution_count": null,
      "outputs": [
        {
          "output_type": "stream",
          "name": "stdout",
          "text": [
            "No module named 'vij'\n"
          ]
        }
      ]
    },
    {
      "cell_type": "code",
      "source": [
        "try :\n",
        "    d={\"key\":\"vij\",\"key1\":\"vij1\"}\n",
        "    d[\"key2\"]\n",
        "except KeyError as e:\n",
        "    print(e)"
      ],
      "metadata": {
        "colab": {
          "base_uri": "https://localhost:8080/"
        },
        "id": "SuyBLMFnWhBo",
        "outputId": "749e1f73-ef48-4827-c9f8-ae6448a55650"
      },
      "execution_count": null,
      "outputs": [
        {
          "output_type": "stream",
          "name": "stdout",
          "text": [
            "'key2'\n"
          ]
        }
      ]
    },
    {
      "cell_type": "code",
      "source": [
        "try:\n",
        "    \"vij\".test()\n",
        "except AttributeError as e:\n",
        "    print(e)"
      ],
      "metadata": {
        "colab": {
          "base_uri": "https://localhost:8080/"
        },
        "id": "4gU7uNK4WhDr",
        "outputId": "02f4156a-a9f1-446b-b66e-474f5185a61e"
      },
      "execution_count": null,
      "outputs": [
        {
          "output_type": "stream",
          "name": "stdout",
          "text": [
            "'str' object has no attribute 'test'\n"
          ]
        }
      ]
    },
    {
      "cell_type": "code",
      "source": [
        "try:\n",
        "  l=[1,2,3,4,4]\n",
        "  l[10]\n",
        "except IndexError as e:\n",
        "  print(e)"
      ],
      "metadata": {
        "colab": {
          "base_uri": "https://localhost:8080/"
        },
        "id": "dvKCI1-zWhFc",
        "outputId": "0a8125fc-3088-4d4a-bb8a-07d9bafa361f"
      },
      "execution_count": null,
      "outputs": [
        {
          "output_type": "stream",
          "name": "stdout",
          "text": [
            "list index out of range\n"
          ]
        }
      ]
    },
    {
      "cell_type": "code",
      "source": [
        "try:\n",
        "  123+'vij'\n",
        "except TypeError as e:\n",
        "  print(e)"
      ],
      "metadata": {
        "colab": {
          "base_uri": "https://localhost:8080/"
        },
        "id": "syVA87C4WhHk",
        "outputId": "6bc67175-cd28-452b-e57d-7142448641ea"
      },
      "execution_count": null,
      "outputs": [
        {
          "output_type": "stream",
          "name": "stdout",
          "text": [
            "unsupported operand type(s) for +: 'int' and 'str'\n"
          ]
        }
      ]
    },
    {
      "cell_type": "code",
      "source": [
        "try:\n",
        "  with open (\" test.txt\",'r') as f:\n",
        "    f.read()\n",
        "except FileNotFoundError as e:\n",
        "  print(e)"
      ],
      "metadata": {
        "id": "GbKUrmdNWhXU",
        "colab": {
          "base_uri": "https://localhost:8080/"
        },
        "outputId": "30cd8148-c1f5-4521-d309-7d3c6de33c43"
      },
      "execution_count": 1,
      "outputs": [
        {
          "output_type": "stream",
          "name": "stdout",
          "text": [
            "[Errno 2] No such file or directory: ' test.txt'\n"
          ]
        }
      ]
    },
    {
      "cell_type": "code",
      "source": [
        "def test(file):\n",
        "    try :\n",
        "        with open (file,'r') as f:\n",
        "            f.read()\n",
        "    except FileNotFoundError as e:\n",
        "        print('this is my file not found type error',e)\n",
        "    except Exception as e:\n",
        "        print('test',e)"
      ],
      "metadata": {
        "id": "7hhJKpERQmxg"
      },
      "execution_count": 5,
      "outputs": []
    },
    {
      "cell_type": "code",
      "source": [],
      "metadata": {
        "id": "bopvGrMhWhY2"
      },
      "execution_count": null,
      "outputs": []
    },
    {
      "cell_type": "code",
      "source": [],
      "metadata": {
        "id": "Jn00kcv3WhaL"
      },
      "execution_count": null,
      "outputs": []
    },
    {
      "cell_type": "code",
      "source": [],
      "metadata": {
        "id": "kKB1935qWhbe"
      },
      "execution_count": null,
      "outputs": []
    },
    {
      "cell_type": "code",
      "source": [],
      "metadata": {
        "id": "--4jP0EFWhdN"
      },
      "execution_count": null,
      "outputs": []
    },
    {
      "cell_type": "code",
      "source": [],
      "metadata": {
        "id": "7UjnrPlTWhg5"
      },
      "execution_count": null,
      "outputs": []
    },
    {
      "cell_type": "code",
      "source": [],
      "metadata": {
        "id": "laBZ78O9Whiw"
      },
      "execution_count": null,
      "outputs": []
    },
    {
      "cell_type": "code",
      "source": [],
      "metadata": {
        "id": "H-UZ_0DKWhmo"
      },
      "execution_count": null,
      "outputs": []
    }
  ]
}