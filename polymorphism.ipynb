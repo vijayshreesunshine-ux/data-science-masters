{
  "nbformat": 4,
  "nbformat_minor": 0,
  "metadata": {
    "colab": {
      "provenance": [],
      "authorship_tag": "ABX9TyPV7PuG28zvbrViQJHYZ9JU",
      "include_colab_link": true
    },
    "kernelspec": {
      "name": "python3",
      "display_name": "Python 3"
    },
    "language_info": {
      "name": "python"
    }
  },
  "cells": [
    {
      "cell_type": "markdown",
      "metadata": {
        "id": "view-in-github",
        "colab_type": "text"
      },
      "source": [
        "<a href=\"https://colab.research.google.com/github/vijayshreesunshine-ux/data-science-masters/blob/main/polymorphism.ipynb\" target=\"_parent\"><img src=\"https://colab.research.google.com/assets/colab-badge.svg\" alt=\"Open In Colab\"/></a>"
      ]
    },
    {
      "cell_type": "code",
      "execution_count": null,
      "metadata": {
        "id": "zcdS9Hr9W_nu"
      },
      "outputs": [],
      "source": [
        "def test(a,b):\n",
        "  return a+b\n",
        "  test(4,5)"
      ]
    },
    {
      "cell_type": "code",
      "source": [
        "test(4,5)"
      ],
      "metadata": {
        "colab": {
          "base_uri": "https://localhost:8080/"
        },
        "id": "jh61WANTYFhk",
        "outputId": "80ca3a70-0ae1-4426-8ced-052f0eba3cc3"
      },
      "execution_count": null,
      "outputs": [
        {
          "output_type": "execute_result",
          "data": {
            "text/plain": [
              "9"
            ]
          },
          "metadata": {},
          "execution_count": 2
        }
      ]
    },
    {
      "cell_type": "code",
      "source": [
        "class data_science:\n",
        "  def syllabus(self):\n",
        "    print(\"this is my syllabus\")"
      ],
      "metadata": {
        "id": "hCCI8F3jYKp1"
      },
      "execution_count": null,
      "outputs": []
    },
    {
      "cell_type": "code",
      "source": [
        "class web_dev:\n",
        "  def syllabus(self):\n",
        "    print(\"this is my syllabus\")"
      ],
      "metadata": {
        "id": "TyVhY7AsYKsV"
      },
      "execution_count": null,
      "outputs": []
    },
    {
      "cell_type": "code",
      "source": [
        "class_parcer(class_obj):\n",
        "  for i in class_obj:\n",
        "    i.syllabus()"
      ],
      "metadata": {
        "id": "dSk1gOhCYKvT"
      },
      "execution_count": null,
      "outputs": []
    },
    {
      "cell_type": "code",
      "source": [
        "class data_science:\n",
        "  def syllabus(self):\n",
        "    print(\"this is my syllabus\")\n",
        "\n",
        "class web_dev:\n",
        "  def syllabus(self):\n",
        "    print(\"this is my web syllabus\")\n",
        "\n",
        "def class_parcer(class_obj):\n",
        "  for i in class_obj:\n",
        "    i.syllabus()\n",
        "\n",
        "obj_data_science = data_science()\n",
        "obj_web_dev = web_dev()\n",
        "class_obj = [obj_data_science,obj_web_dev]\n",
        "class_parcer(class_obj)"
      ],
      "metadata": {
        "colab": {
          "base_uri": "https://localhost:8080/"
        },
        "collapsed": true,
        "id": "gCJcgkKIY5H4",
        "outputId": "05dcf06d-fb88-42e9-c8ec-5542b7533dd5"
      },
      "execution_count": null,
      "outputs": [
        {
          "output_type": "stream",
          "name": "stdout",
          "text": [
            "this is my syllabus\n",
            "this is my web syllabus\n"
          ]
        }
      ]
    },
    {
      "cell_type": "code",
      "source": [
        "##Polymorphism in Python, derived from the Greek words \"poly\" (many) and \"morph\" (forms), is a core concept in Object-Oriented Programming (OOP) that allows objects of different classes to be treated through a common interface.\n",
        "##This means that the same function or method can be called on different objects,\n",
        " ##and each object will respond in a way that is specific to its own class.\n"
      ],
      "metadata": {
        "id": "1gy1OnG7Y5K4"
      },
      "execution_count": null,
      "outputs": []
    },
    {
      "cell_type": "code",
      "source": [],
      "metadata": {
        "id": "gllsfAFGY5Py"
      },
      "execution_count": null,
      "outputs": []
    },
    {
      "cell_type": "code",
      "source": [],
      "metadata": {
        "id": "DoYbF3dFY5bH"
      },
      "execution_count": null,
      "outputs": []
    }
  ]
}