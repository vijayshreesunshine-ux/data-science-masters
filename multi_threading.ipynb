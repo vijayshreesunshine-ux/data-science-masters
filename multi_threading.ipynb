{
  "nbformat": 4,
  "nbformat_minor": 0,
  "metadata": {
    "colab": {
      "provenance": []
    },
    "kernelspec": {
      "name": "python3",
      "display_name": "Python 3"
    },
    "language_info": {
      "name": "python"
    }
  },
  "cells": [
    {
      "cell_type": "code",
      "execution_count": null,
      "metadata": {
        "id": "73StX7BW77He"
      },
      "outputs": [],
      "source": [
        "#Multithreading in Python is a technique that enables a program to execute multiple parts of its code\n",
        " #concurrently within a single process. Each of these concurrently running parts\n",
        "  #is known as a \"thread\""
      ]
    },
    {
      "cell_type": "code",
      "source": [
        "import threading\n"
      ],
      "metadata": {
        "id": "H_mlFliu8BI4"
      },
      "execution_count": null,
      "outputs": []
    },
    {
      "cell_type": "code",
      "source": [
        "def test(id):\n",
        "  print('this is my testid %d' % id)"
      ],
      "metadata": {
        "id": "3Yc8AcyY8BLd"
      },
      "execution_count": null,
      "outputs": []
    },
    {
      "cell_type": "code",
      "source": [
        "test(10)"
      ],
      "metadata": {
        "colab": {
          "base_uri": "https://localhost:8080/"
        },
        "id": "DtCmlteO8BN4",
        "outputId": "c47975de-9f50-42d1-b7a2-f2f92cc50881"
      },
      "execution_count": null,
      "outputs": [
        {
          "output_type": "stream",
          "name": "stdout",
          "text": [
            "this is my testid 10\n"
          ]
        }
      ]
    },
    {
      "cell_type": "code",
      "source": [
        "test(1)"
      ],
      "metadata": {
        "colab": {
          "base_uri": "https://localhost:8080/"
        },
        "id": "pcn_8nl48BQc",
        "outputId": "aa3ef92b-ce7a-4a98-9a27-e568bc9272b5"
      },
      "execution_count": null,
      "outputs": [
        {
          "output_type": "stream",
          "name": "stdout",
          "text": [
            "this is my testid 1\n"
          ]
        }
      ]
    },
    {
      "cell_type": "code",
      "source": [
        "test(3)"
      ],
      "metadata": {
        "colab": {
          "base_uri": "https://localhost:8080/"
        },
        "id": "5y9GYQ148BTT",
        "outputId": "c15c24b4-b2df-4c5f-bf72-b9eb20cd0c57"
      },
      "execution_count": null,
      "outputs": [
        {
          "output_type": "stream",
          "name": "stdout",
          "text": [
            "this is my testid 3\n"
          ]
        }
      ]
    },
    {
      "cell_type": "code",
      "source": [
        "thred =[threading.Thread(target=test,args=(i,)) for i in [10,1,3]]"
      ],
      "metadata": {
        "id": "GK3XnKYa8BV4"
      },
      "execution_count": null,
      "outputs": []
    },
    {
      "cell_type": "code",
      "source": [
        "thred"
      ],
      "metadata": {
        "colab": {
          "base_uri": "https://localhost:8080/"
        },
        "id": "iZgAzQDE-NBg",
        "outputId": "6168347e-5b14-4bee-81a6-626f08b76529"
      },
      "execution_count": null,
      "outputs": [
        {
          "output_type": "execute_result",
          "data": {
            "text/plain": [
              "[<Thread(Thread-3 (test), initial)>,\n",
              " <Thread(Thread-4 (test), initial)>,\n",
              " <Thread(Thread-5 (test), initial)>]"
            ]
          },
          "metadata": {},
          "execution_count": 7
        }
      ]
    },
    {
      "cell_type": "code",
      "source": [
        "for t in thred:\n",
        "  t.start()\n"
      ],
      "metadata": {
        "colab": {
          "base_uri": "https://localhost:8080/"
        },
        "id": "0N58FsA4-NES",
        "outputId": "d52d3947-1039-4a61-c67c-847643d6bd64"
      },
      "execution_count": null,
      "outputs": [
        {
          "output_type": "stream",
          "name": "stdout",
          "text": [
            "this is my testid 10\n",
            "this is my testid 1\n",
            "this is my testid 3\n"
          ]
        }
      ]
    },
    {
      "cell_type": "code",
      "source": [
        "import urllib.request\n",
        "def file_download(url,filename):\n",
        "    urllib.request.urlretrieve(url,filename)"
      ],
      "metadata": {
        "id": "E0dXv8k4-NHQ"
      },
      "execution_count": null,
      "outputs": []
    },
    {
      "cell_type": "code",
      "source": [
        "file_download('https://raw.githubusercontent.com/itsfoss/text-files/master/agatha.txt','test1.txt')"
      ],
      "metadata": {
        "id": "b5QGmLZW-NKL"
      },
      "execution_count": null,
      "outputs": []
    },
    {
      "cell_type": "code",
      "source": [
        "url_list=['https://raw.githubusercontent.com/itsfoss/text-files/master/agatha.txt','https://colab.research.google.com/drive/13TH0IRc-YVstPDtPx2kTfAPaHo5WJORB#scrollTo=M0-lj8cV-NNF',]"
      ],
      "metadata": {
        "id": "M0-lj8cV-NNF"
      },
      "execution_count": null,
      "outputs": []
    },
    {
      "cell_type": "code",
      "source": [
        "url_list"
      ],
      "metadata": {
        "colab": {
          "base_uri": "https://localhost:8080/"
        },
        "id": "Z4jByI5X-NQS",
        "outputId": "11069d96-a111-4d71-bb02-d87cdeafcac4"
      },
      "execution_count": null,
      "outputs": [
        {
          "output_type": "execute_result",
          "data": {
            "text/plain": [
              "['https://raw.githubusercontent.com/itsfoss/text-files/master/agatha.txt',\n",
              " 'https://colab.research.google.com/drive/13TH0IRc-YVstPDtPx2kTfAPaHo5WJORB#scrollTo=M0-lj8cV-NNF']"
            ]
          },
          "metadata": {},
          "execution_count": 14
        }
      ]
    },
    {
      "cell_type": "code",
      "source": [
        "data_file_list=['data1.txt','data2.txt']"
      ],
      "metadata": {
        "id": "BrqPy5u7-NT8"
      },
      "execution_count": null,
      "outputs": []
    },
    {
      "cell_type": "code",
      "source": [
        "data_file_list"
      ],
      "metadata": {
        "colab": {
          "base_uri": "https://localhost:8080/"
        },
        "id": "U5N278Df8BYO",
        "outputId": "c83de135-f77b-42c3-c403-567ed37100e1"
      },
      "execution_count": null,
      "outputs": [
        {
          "output_type": "execute_result",
          "data": {
            "text/plain": [
              "['data1.txt', 'data2.txt']"
            ]
          },
          "metadata": {},
          "execution_count": 16
        }
      ]
    },
    {
      "cell_type": "code",
      "source": [
        "threds1 = [threading.Thread(target=file_download,args=(url_list[i],data_file_list[i])) for i in range (len(url_list))]"
      ],
      "metadata": {
        "id": "FRwcYMKk8Ba6"
      },
      "execution_count": null,
      "outputs": []
    },
    {
      "cell_type": "code",
      "source": [
        "for t in threds1:\n",
        "  t.start()"
      ],
      "metadata": {
        "id": "12MzMPts8Bdj"
      },
      "execution_count": null,
      "outputs": []
    },
    {
      "cell_type": "code",
      "source": [
        "threds1"
      ],
      "metadata": {
        "id": "h41tLGRf8Bfx",
        "colab": {
          "base_uri": "https://localhost:8080/"
        },
        "outputId": "f7757c16-2ce2-4b93-8f57-47a9d5acde38"
      },
      "execution_count": 26,
      "outputs": [
        {
          "output_type": "execute_result",
          "data": {
            "text/plain": [
              "[<Thread(Thread-10 (file_download), stopped 139054866818624)>,\n",
              " <Thread(Thread-11 (file_download), stopped 139054858425920)>]"
            ]
          },
          "metadata": {},
          "execution_count": 26
        }
      ]
    },
    {
      "cell_type": "code",
      "source": [
        "import time"
      ],
      "metadata": {
        "id": "7EtYbQkRQQQu"
      },
      "execution_count": 27,
      "outputs": []
    },
    {
      "cell_type": "code",
      "source": [
        "def test2(x):\n",
        "  for i in range(10):\n",
        "    print('test1 print the value of x %d and print the value of i %d'%(x,i))\n",
        "    time.sleep(1)\n"
      ],
      "metadata": {
        "id": "71mrFAKiQQTX"
      },
      "execution_count": 40,
      "outputs": []
    },
    {
      "cell_type": "code",
      "source": [
        "test2(10)"
      ],
      "metadata": {
        "colab": {
          "base_uri": "https://localhost:8080/"
        },
        "id": "nwfomT3oQQVz",
        "outputId": "ae7b4b99-329b-4d75-fb75-e65a6fa2535e"
      },
      "execution_count": 41,
      "outputs": [
        {
          "output_type": "stream",
          "name": "stdout",
          "text": [
            "test1 print the value of x 10 and print the value of i 0\n",
            "test1 print the value of x 10 and print the value of i 1\n",
            "test1 print the value of x 10 and print the value of i 2\n",
            "test1 print the value of x 10 and print the value of i 3\n",
            "test1 print the value of x 10 and print the value of i 4\n",
            "test1 print the value of x 10 and print the value of i 5\n",
            "test1 print the value of x 10 and print the value of i 6\n",
            "test1 print the value of x 10 and print the value of i 7\n",
            "test1 print the value of x 10 and print the value of i 8\n",
            "test1 print the value of x 10 and print the value of i 9\n"
          ]
        }
      ]
    },
    {
      "cell_type": "code",
      "source": [
        "thread2=[threading.Thread(target=test2,args=(i,))for i in [100,10,20,5]]"
      ],
      "metadata": {
        "id": "TQHClYoKRzWn"
      },
      "execution_count": 43,
      "outputs": []
    },
    {
      "cell_type": "code",
      "source": [
        "for t in thread2:\n",
        "  t.start()"
      ],
      "metadata": {
        "colab": {
          "base_uri": "https://localhost:8080/"
        },
        "id": "ipalHpLIRzZF",
        "outputId": "ba12fe9e-c3ca-4176-e50f-78e98272047f"
      },
      "execution_count": 44,
      "outputs": [
        {
          "output_type": "stream",
          "name": "stdout",
          "text": [
            "test1 print the value of x 100 and print the value of i 0\n",
            "test1 print the value of x 10 and print the value of i 0\n",
            "test1 print the value of x 20 and print the value of i 0\n",
            "test1 print the value of x 5 and print the value of i 0\n"
          ]
        }
      ]
    },
    {
      "cell_type": "code",
      "source": [
        "shared_var=0\n",
        "lock_var=threading.Lock()\n",
        "def test3(x):\n",
        "  global shared_var\n",
        "  with lock_var:\n",
        "    shared_var=shared_var+1\n",
        "    print('value of x %d and value of shared_var %d'%(x,shared_var))\n",
        "    time.sleep(1)"
      ],
      "metadata": {
        "id": "jiE6d5Q8Rzcj"
      },
      "execution_count": 45,
      "outputs": []
    },
    {
      "cell_type": "code",
      "source": [
        "test3(1)"
      ],
      "metadata": {
        "colab": {
          "base_uri": "https://localhost:8080/"
        },
        "id": "RDbPoJWQQQYm",
        "outputId": "3048486a-e473-4067-bb66-29defd5d7e31"
      },
      "execution_count": 46,
      "outputs": [
        {
          "output_type": "stream",
          "name": "stdout",
          "text": [
            "value of x 1 and value of shared_var 1\n"
          ]
        }
      ]
    },
    {
      "cell_type": "code",
      "source": [
        "test3(2)"
      ],
      "metadata": {
        "colab": {
          "base_uri": "https://localhost:8080/"
        },
        "id": "HDnDLcqBQQcE",
        "outputId": "4b3519bb-b59c-4e74-b0b3-10a765099176"
      },
      "execution_count": 47,
      "outputs": [
        {
          "output_type": "stream",
          "name": "stdout",
          "text": [
            "value of x 2 and value of shared_var 2\n"
          ]
        }
      ]
    },
    {
      "cell_type": "code",
      "source": [
        "shared_var=0\n",
        "lock_var=threading.Lock()\n",
        "def test3(x):\n",
        "  global shared_var\n",
        "  with lock_var:\n",
        "    shared_var=shared_var+1\n",
        "    print('value of x %d and value of shared_var %d'%(x,shared_var))\n",
        "    time.sleep(1)\n",
        "  threads=[threading.Thread(target=test3,args=(i,))for i in [1,2,3,4,4,5]]\n",
        "  for t in threads:\n",
        "    t.start()"
      ],
      "metadata": {
        "id": "44-dX-gEQQe1"
      },
      "execution_count": 50,
      "outputs": []
    },
    {
      "cell_type": "code",
      "source": [
        "threads"
      ],
      "metadata": {
        "colab": {
          "base_uri": "https://localhost:8080/",
          "height": 141
        },
        "id": "QMBCqPn1QQhg",
        "outputId": "0ac04224-bf7e-4c93-aab7-9c9c9558c729"
      },
      "execution_count": 51,
      "outputs": [
        {
          "output_type": "error",
          "ename": "NameError",
          "evalue": "name 'threads' is not defined",
          "traceback": [
            "\u001b[0;31m---------------------------------------------------------------------------\u001b[0m",
            "\u001b[0;31mNameError\u001b[0m                                 Traceback (most recent call last)",
            "\u001b[0;32m/tmp/ipython-input-3789343943.py\u001b[0m in \u001b[0;36m<cell line: 0>\u001b[0;34m()\u001b[0m\n\u001b[0;32m----> 1\u001b[0;31m \u001b[0mthreads\u001b[0m\u001b[0;34m\u001b[0m\u001b[0;34m\u001b[0m\u001b[0m\n\u001b[0m",
            "\u001b[0;31mNameError\u001b[0m: name 'threads' is not defined"
          ]
        }
      ]
    },
    {
      "cell_type": "code",
      "source": [],
      "metadata": {
        "id": "4fWMQ-y6QQj9"
      },
      "execution_count": null,
      "outputs": []
    },
    {
      "cell_type": "code",
      "source": [],
      "metadata": {
        "id": "Tri5NtdGQQnX"
      },
      "execution_count": null,
      "outputs": []
    },
    {
      "cell_type": "code",
      "metadata": {
        "colab": {
          "base_uri": "https://localhost:8080/"
        },
        "id": "87820898",
        "outputId": "7400c588-fb28-4f00-98b4-abfdcdbf6ec5"
      },
      "source": [
        "shared_var=0\n",
        "lock_var=threading.Lock()\n",
        "def test4(x):\n",
        "  global shared_var\n",
        "  with lock_var:\n",
        "    shared_var=shared_var+1\n",
        "    print('value of x %d and value of shared_var %d'%(x,shared_var))\n",
        "    time.sleep(1)\n",
        "\n",
        "threads=[threading.Thread(target=test4,args=(i,))for i in [1,2,3,4,4,5]]\n",
        "for t in threads:\n",
        "  t.start()"
      ],
      "execution_count": 53,
      "outputs": [
        {
          "output_type": "stream",
          "name": "stdout",
          "text": [
            "value of x 1 and value of shared_var 1\n"
          ]
        }
      ]
    }
  ]
}