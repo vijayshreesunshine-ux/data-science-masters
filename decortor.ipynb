{
  "nbformat": 4,
  "nbformat_minor": 0,
  "metadata": {
    "colab": {
      "provenance": [],
      "authorship_tag": "ABX9TyODgja55rbfFJkp66uaY2yJ",
      "include_colab_link": true
    },
    "kernelspec": {
      "name": "python3",
      "display_name": "Python 3"
    },
    "language_info": {
      "name": "python"
    }
  },
  "cells": [
    {
      "cell_type": "markdown",
      "metadata": {
        "id": "view-in-github",
        "colab_type": "text"
      },
      "source": [
        "<a href=\"https://colab.research.google.com/github/vijayshreesunshine-ux/data-science-masters/blob/main/decortor.ipynb\" target=\"_parent\"><img src=\"https://colab.research.google.com/assets/colab-badge.svg\" alt=\"Open In Colab\"/></a>"
      ]
    },
    {
      "cell_type": "code",
      "execution_count": null,
      "metadata": {
        "id": "3_zPeDG0YMh_"
      },
      "outputs": [],
      "source": [
        "def test():\n",
        "  print (\"this is the strt of my fun\")\n",
        "  print (4+5)\n",
        "  print (\"this is the end of my fun\")"
      ]
    },
    {
      "cell_type": "code",
      "source": [
        "test()\n"
      ],
      "metadata": {
        "colab": {
          "base_uri": "https://localhost:8080/"
        },
        "id": "g5ykVYBnXaSq",
        "outputId": "84cf467f-ee8a-42f3-c0de-31750dceac5d"
      },
      "execution_count": null,
      "outputs": [
        {
          "output_type": "stream",
          "name": "stdout",
          "text": [
            "this is the strt of my fun\n",
            "9\n",
            "this is the end of my fun\n"
          ]
        }
      ]
    },
    {
      "cell_type": "code",
      "source": [
        "def deco(fun):\n",
        "  def inner_deco():\n",
        "      print(\"this is the start of my fun\")\n",
        "      fun()\n",
        "      print(\"this is the end of my fun\")\n",
        "  return inner_deco"
      ],
      "metadata": {
        "id": "7MDiMfReXaWI"
      },
      "execution_count": null,
      "outputs": []
    },
    {
      "cell_type": "code",
      "source": [
        "@deco\n",
        "def test1():\n",
        "  print(6+7)"
      ],
      "metadata": {
        "id": "HHQBp5NiXaY1"
      },
      "execution_count": null,
      "outputs": []
    },
    {
      "cell_type": "code",
      "source": [
        "test1()"
      ],
      "metadata": {
        "colab": {
          "base_uri": "https://localhost:8080/"
        },
        "id": "eihiODWDXabc",
        "outputId": "8adbe065-48ef-4f58-9bdd-9d37c538baaf"
      },
      "execution_count": null,
      "outputs": [
        {
          "output_type": "stream",
          "name": "stdout",
          "text": [
            "this is the start of my fun\n",
            "13\n",
            "this is the end of my fun\n"
          ]
        }
      ]
    },
    {
      "cell_type": "code",
      "source": [
        "import time\n",
        "def timer_test(func):\n",
        "  def timer_test_inner():\n",
        "      strt=time.time()\n",
        "      func()\n",
        "      end=time.time()\n",
        "      print(end-strt)\n",
        "  return timer_test_inner\n"
      ],
      "metadata": {
        "id": "MuuLm4-QXaeL"
      },
      "execution_count": null,
      "outputs": []
    },
    {
      "cell_type": "code",
      "source": [
        "@timer_test\n",
        "def test2():\n",
        "  print(45+78)"
      ],
      "metadata": {
        "id": "0sQWdD2gXatz"
      },
      "execution_count": null,
      "outputs": []
    },
    {
      "cell_type": "code",
      "source": [
        "test2()"
      ],
      "metadata": {
        "colab": {
          "base_uri": "https://localhost:8080/"
        },
        "id": "q82D529DZIKe",
        "outputId": "735a8a16-17e4-40aa-8823-fb52e3ac2a20"
      },
      "execution_count": null,
      "outputs": [
        {
          "output_type": "stream",
          "name": "stdout",
          "text": [
            "123\n",
            "0.0005586147308349609\n"
          ]
        }
      ]
    },
    {
      "cell_type": "code",
      "source": [
        "@timer_test\n",
        "def test3():\n",
        "  for i in range(100000):\n",
        "    pass"
      ],
      "metadata": {
        "id": "0zlZarXcZINT"
      },
      "execution_count": null,
      "outputs": []
    },
    {
      "cell_type": "code",
      "source": [
        "test3()"
      ],
      "metadata": {
        "colab": {
          "base_uri": "https://localhost:8080/"
        },
        "id": "LkCXGsP0ZIQF",
        "outputId": "7b4d70cb-7963-43e3-d1b2-ac5e9a007813"
      },
      "execution_count": null,
      "outputs": [
        {
          "output_type": "stream",
          "name": "stdout",
          "text": [
            "0.0018804073333740234\n"
          ]
        }
      ]
    },
    {
      "cell_type": "code",
      "source": [],
      "metadata": {
        "id": "dyXvm7i8ZIS0"
      },
      "execution_count": null,
      "outputs": []
    },
    {
      "cell_type": "code",
      "source": [],
      "metadata": {
        "id": "DGjkq8lnZIVl"
      },
      "execution_count": null,
      "outputs": []
    },
    {
      "cell_type": "code",
      "source": [],
      "metadata": {
        "id": "RLSJGwyWZIYO"
      },
      "execution_count": null,
      "outputs": []
    },
    {
      "cell_type": "code",
      "source": [],
      "metadata": {
        "id": "Sk-WcyYNZIbu"
      },
      "execution_count": null,
      "outputs": []
    }
  ]
}