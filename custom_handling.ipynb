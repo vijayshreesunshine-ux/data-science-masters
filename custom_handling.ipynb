{
  "nbformat": 4,
  "nbformat_minor": 0,
  "metadata": {
    "colab": {
      "provenance": []
    },
    "kernelspec": {
      "name": "python3",
      "display_name": "Python 3"
    },
    "language_info": {
      "name": "python"
    }
  },
  "cells": [
    {
      "cell_type": "code",
      "source": [
        "age= int(input(\"enter your age\"))"
      ],
      "metadata": {
        "colab": {
          "base_uri": "https://localhost:8080/"
        },
        "id": "qxLx5GBAQN-7",
        "outputId": "08605e55-ec0d-4199-cb29-4e4f0c107195"
      },
      "execution_count": 1,
      "outputs": [
        {
          "name": "stdout",
          "output_type": "stream",
          "text": [
            "enter your age2234\n"
          ]
        }
      ]
    },
    {
      "cell_type": "code",
      "execution_count": 3,
      "metadata": {
        "id": "3p54qdj9QCuD"
      },
      "outputs": [],
      "source": [
        "class validateage(Exception):\n",
        "  def __init__(self,msg):\n",
        "    self.msg=msg\n"
      ]
    },
    {
      "cell_type": "code",
      "source": [
        "def validate_age(age):\n",
        "  if age<0:\n",
        "    raise validateage(\"age should not be less than zero\")\n",
        "  elif age>200:\n",
        "    raise validateage(\"age is too high\")\n",
        "  else:\n",
        "    print(\"age is valid\")"
      ],
      "metadata": {
        "id": "Ivueyyx6QJP6"
      },
      "execution_count": 4,
      "outputs": []
    },
    {
      "cell_type": "code",
      "source": [
        "try:\n",
        "  age=int(input(\"enter your age\"))\n",
        "  validate_age(age)\n",
        "except validateage as e:\n",
        "  print(e)"
      ],
      "metadata": {
        "colab": {
          "base_uri": "https://localhost:8080/"
        },
        "id": "KC0igPiTQJSV",
        "outputId": "6d653cd4-9570-432d-c366-1116e9562eca"
      },
      "execution_count": 7,
      "outputs": [
        {
          "output_type": "stream",
          "name": "stdout",
          "text": [
            "enter your age19\n",
            "age is valid\n"
          ]
        }
      ]
    },
    {
      "cell_type": "code",
      "source": [],
      "metadata": {
        "id": "ehWd6lmEQJUR"
      },
      "execution_count": null,
      "outputs": []
    },
    {
      "cell_type": "code",
      "source": [],
      "metadata": {
        "id": "iIfyil44QJXS"
      },
      "execution_count": null,
      "outputs": []
    },
    {
      "cell_type": "code",
      "source": [],
      "metadata": {
        "id": "ScxL8j31QJZ1"
      },
      "execution_count": null,
      "outputs": []
    },
    {
      "cell_type": "code",
      "source": [],
      "metadata": {
        "id": "OyeNf9qpQJcY"
      },
      "execution_count": null,
      "outputs": []
    },
    {
      "cell_type": "code",
      "source": [],
      "metadata": {
        "id": "MeEVkPCjQJfC"
      },
      "execution_count": null,
      "outputs": []
    },
    {
      "cell_type": "code",
      "source": [],
      "metadata": {
        "id": "Lb6QCTzaQJhn"
      },
      "execution_count": null,
      "outputs": []
    },
    {
      "cell_type": "code",
      "source": [],
      "metadata": {
        "id": "6WPVGNs2QJlG"
      },
      "execution_count": null,
      "outputs": []
    }
  ]
}