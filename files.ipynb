{
  "nbformat": 4,
  "nbformat_minor": 0,
  "metadata": {
    "colab": {
      "provenance": [],
      "authorship_tag": "ABX9TyNEp3mXTO9lZZ7cCg9VG0SR",
      "include_colab_link": true
    },
    "kernelspec": {
      "name": "python3",
      "display_name": "Python 3"
    },
    "language_info": {
      "name": "python"
    }
  },
  "cells": [
    {
      "cell_type": "markdown",
      "metadata": {
        "id": "view-in-github",
        "colab_type": "text"
      },
      "source": [
        "<a href=\"https://colab.research.google.com/github/vijayshreesunshine-ux/data-science-masters/blob/main/files.ipynb\" target=\"_parent\"><img src=\"https://colab.research.google.com/assets/colab-badge.svg\" alt=\"Open In Colab\"/></a>"
      ]
    },
    {
      "cell_type": "code",
      "execution_count": null,
      "metadata": {
        "id": "H3xIX2TO44LH"
      },
      "outputs": [],
      "source": []
    },
    {
      "cell_type": "code",
      "source": [
        "data ={\n",
        "    \"name\":\"vijayshree\",\n",
        "    'phone number': 2345632,\n",
        "    'subject':[\"ds\",\"big data\"],\n",
        "    'address':\"bangalore\"\n",
        "}"
      ],
      "metadata": {
        "id": "Mg8jy3En6Oh1"
      },
      "execution_count": null,
      "outputs": []
    },
    {
      "cell_type": "markdown",
      "source": [
        "***JSON (JavaScript Object Notation) is a lightweight, human-readable data interchange format commonly used for transmitting data between a server and web application, or for storing configuration data. Python has a built-in module called json that provide functionalites to work with JSON data***"
      ],
      "metadata": {
        "id": "mOu5XIwT7KRk"
      }
    },
    {
      "cell_type": "code",
      "source": [
        "import json\n"
      ],
      "metadata": {
        "id": "K0oMBgsa7Xdk"
      },
      "execution_count": null,
      "outputs": []
    },
    {
      "cell_type": "code",
      "source": [
        "with open ('data.json','w') as f:\n",
        "    json.dump(data,f)"
      ],
      "metadata": {
        "id": "2a5qRs6J8UrC"
      },
      "execution_count": null,
      "outputs": []
    },
    {
      "cell_type": "code",
      "source": [
        "with open ('data.json','r') as f:\n",
        "   data1= json.load(f)"
      ],
      "metadata": {
        "id": "mtY4ZDC58U1G"
      },
      "execution_count": null,
      "outputs": []
    },
    {
      "cell_type": "code",
      "source": [
        "data1"
      ],
      "metadata": {
        "colab": {
          "base_uri": "https://localhost:8080/"
        },
        "id": "Uf81QNKe8U4m",
        "outputId": "e76d6da0-d141-46e1-95a8-a76640776120"
      },
      "execution_count": null,
      "outputs": [
        {
          "output_type": "execute_result",
          "data": {
            "text/plain": [
              "{'name': 'vijayshree',\n",
              " 'phone number': 2345632,\n",
              " 'subject': ['ds', 'big data'],\n",
              " 'address': 'bangalore'}"
            ]
          },
          "metadata": {},
          "execution_count": 14
        }
      ]
    },
    {
      "cell_type": "code",
      "source": [
        "data1['subject'][1]"
      ],
      "metadata": {
        "colab": {
          "base_uri": "https://localhost:8080/",
          "height": 36
        },
        "id": "0Mo6ZsBA8VA7",
        "outputId": "5389ab50-a23b-448b-e05d-b159fe6891ce"
      },
      "execution_count": null,
      "outputs": [
        {
          "output_type": "execute_result",
          "data": {
            "text/plain": [
              "'big data'"
            ],
            "application/vnd.google.colaboratory.intrinsic+json": {
              "type": "string"
            }
          },
          "metadata": {},
          "execution_count": 15
        }
      ]
    },
    {
      "cell_type": "markdown",
      "source": [
        "CSV (Comma Separated Values) format is the most common import and export format for spreadsheets and databases. CSV format was used for many years prior to attempts to describe the format in a standardized way in RFC 4180. The lack of a well-defined standard means that subtle differences often exist in the data produced and consumed by different applications. These differences can make it annoying to process CSV files from multiple sources. Still, while the delimiters and quoting characters vary, the overall format is similar enough that it is possible to write a single module which can efficiently manipulate such data, hiding th"
      ],
      "metadata": {
        "id": "L4bDWlva_H5q"
      }
    },
    {
      "cell_type": "code",
      "source": [
        "data2 =[['name','email','number'],\n",
        "       [\"sudh\",'vjshwj',27364940],\n",
        "       [\"sha\",\"hkfgk\",34578334]\n",
        "]"
      ],
      "metadata": {
        "id": "3XHBzkiA-Xkf"
      },
      "execution_count": null,
      "outputs": []
    },
    {
      "cell_type": "code",
      "source": [
        "import csv"
      ],
      "metadata": {
        "id": "J20NIdZL-Xnd"
      },
      "execution_count": null,
      "outputs": []
    },
    {
      "cell_type": "code",
      "source": [
        "with open (\"data2.csv\",'w')as f:\n",
        "    w=csv.writer(f)\n",
        "    for i in data2:\n",
        "        w.writerow(i)"
      ],
      "metadata": {
        "id": "5j9lxnRtAYoK"
      },
      "execution_count": null,
      "outputs": []
    },
    {
      "cell_type": "code",
      "source": [
        "with open (\"data2.csv\",'r')as f:\n",
        "    read=csv.reader(f)\n",
        "    for i in read:\n",
        "        print(i)"
      ],
      "metadata": {
        "colab": {
          "base_uri": "https://localhost:8080/"
        },
        "id": "x2f5H35uAYq3",
        "outputId": "5c8be2ea-0888-4d41-eb35-e0ce04930def"
      },
      "execution_count": null,
      "outputs": [
        {
          "output_type": "stream",
          "name": "stdout",
          "text": [
            "['name', 'email', 'number']\n",
            "['sudh', 'vjshwj', '27364940']\n",
            "['sha', 'hkfgk', '34578334']\n"
          ]
        }
      ]
    },
    {
      "cell_type": "markdown",
      "source": [
        "# **binary is a kind of  data which is available in form of audio video or images and it is also a write and read operation  **"
      ],
      "metadata": {
        "id": "X-lduwb-CUW6"
      }
    },
    {
      "cell_type": "code",
      "source": [
        "with open('test4.bin','wb') as f:\n",
        "     f.write(b\"\\x01\\x02\\x03\")"
      ],
      "metadata": {
        "id": "CVHOyQ0ABuRE"
      },
      "execution_count": null,
      "outputs": []
    },
    {
      "cell_type": "code",
      "source": [
        "with open('test4.bin','rb') as f:\n",
        "    print(f.read())"
      ],
      "metadata": {
        "colab": {
          "base_uri": "https://localhost:8080/"
        },
        "id": "vn2feF2OCzFk",
        "outputId": "68ac6be5-15ba-49e2-b55a-90ca06185d12"
      },
      "execution_count": null,
      "outputs": [
        {
          "output_type": "stream",
          "name": "stdout",
          "text": [
            "b'\\x01\\x02\\x03'\n"
          ]
        }
      ]
    },
    {
      "cell_type": "markdown",
      "source": [
        "# **if my file size is very big and i can't read and write a gbs size so the solution is i will read this file in chunks that's exactly what buffered files do **"
      ],
      "metadata": {
        "id": "5qO2QKDiD1Nc"
      }
    },
    {
      "cell_type": "code",
      "source": [
        "import io"
      ],
      "metadata": {
        "id": "Rl2olBipCzKu"
      },
      "execution_count": null,
      "outputs": []
    },
    {
      "cell_type": "code",
      "source": [
        "with open (\"test1.txt\",'wb') as f:\n",
        "    file=io.BufferedWriter(f)\n",
        "    file.write(b\"this is my first line\\n\")\n",
        "    file.write(b\"this is my second line\\n\")\n",
        "    file.flush()"
      ],
      "metadata": {
        "id": "4HdnmAhjCzNM"
      },
      "execution_count": null,
      "outputs": []
    },
    {
      "cell_type": "code",
      "source": [
        "with open (\"test1.txt\",'rb') as f:\n",
        "    file=io.BufferedReader(f)\n",
        "    data=file.read(10)\n",
        "    print(data)"
      ],
      "metadata": {
        "colab": {
          "base_uri": "https://localhost:8080/"
        },
        "id": "YNFycPxgCzPR",
        "outputId": "7f594063-77d3-44d8-ba38-f32248b40ad6"
      },
      "execution_count": null,
      "outputs": [
        {
          "output_type": "stream",
          "name": "stdout",
          "text": [
            "b'this is my'\n"
          ]
        }
      ]
    },
    {
      "cell_type": "markdown",
      "source": [
        "# **logging and debugger**"
      ],
      "metadata": {
        "id": "ik6BXuLBGMF1"
      }
    },
    {
      "cell_type": "code",
      "source": [
        "import logging"
      ],
      "metadata": {
        "id": "WFLW0RnSCzT_"
      },
      "execution_count": null,
      "outputs": []
    },
    {
      "cell_type": "code",
      "source": [
        "logging.basicConfig(filename=\"test.log\",level=logging.INFO)"
      ],
      "metadata": {
        "id": "RqvnsORSCzWn"
      },
      "execution_count": null,
      "outputs": []
    },
    {
      "cell_type": "code",
      "source": [
        "logging.info('this is my line of execution')"
      ],
      "metadata": {
        "id": "r7NmvPNzCzY3"
      },
      "execution_count": null,
      "outputs": []
    },
    {
      "cell_type": "code",
      "source": [
        "logging.error('this is my error')"
      ],
      "metadata": {
        "colab": {
          "base_uri": "https://localhost:8080/"
        },
        "id": "aSfWcCF8CzcP",
        "outputId": "4e52a0ab-b617-428e-8358-3abeaca5815e"
      },
      "execution_count": null,
      "outputs": [
        {
          "output_type": "stream",
          "name": "stderr",
          "text": [
            "ERROR:root:this is my error\n"
          ]
        }
      ]
    },
    {
      "cell_type": "markdown",
      "source": [
        "# **logging works in form of hiearchy:\n",
        "1. noset\n",
        "2.debug\n",
        "3.info\n",
        "4. warning\n",
        "5. error\n",
        "6. critical\n",
        "after info including info it won't be able to log and whatever comes above would be logged because above we set the lable equal to info\n",
        " **"
      ],
      "metadata": {
        "id": "0EOjWmhGH3Ol"
      }
    },
    {
      "cell_type": "code",
      "source": [
        "logging.warning('this is my warning')"
      ],
      "metadata": {
        "colab": {
          "base_uri": "https://localhost:8080/"
        },
        "id": "qkq93oX6BuTr",
        "outputId": "08f2a536-63eb-4511-b735-5829d0aa6616"
      },
      "execution_count": null,
      "outputs": [
        {
          "output_type": "stream",
          "name": "stderr",
          "text": [
            "WARNING:root:this is my warning\n"
          ]
        }
      ]
    },
    {
      "cell_type": "code",
      "source": [
        "logging.basicConfig(filename=\"test7.log\",level=logging.DEBUG,format='%(asctime)s %(message)s')"
      ],
      "metadata": {
        "id": "S4PuuSppBuWM"
      },
      "execution_count": null,
      "outputs": []
    },
    {
      "cell_type": "code",
      "source": [
        "logging.info('this is my info')"
      ],
      "metadata": {
        "id": "uU3zZU49BuYy"
      },
      "execution_count": null,
      "outputs": []
    },
    {
      "cell_type": "code",
      "source": [
        "logging.debug('this is my debug')"
      ],
      "metadata": {
        "id": "ClxebjchBucT"
      },
      "execution_count": null,
      "outputs": []
    },
    {
      "cell_type": "code",
      "source": [
        "logging.shutdown()"
      ],
      "metadata": {
        "id": "3V_fvcOoBunZ"
      },
      "execution_count": null,
      "outputs": []
    },
    {
      "cell_type": "code",
      "source": [
        "logging.basicConfig(filename=\"test8.log\",level=logging.DEBUG,format='%(asctime)s %(name)s %(levelname)s %(message)s')"
      ],
      "metadata": {
        "id": "OmsOS-kNBupy"
      },
      "execution_count": null,
      "outputs": []
    },
    {
      "cell_type": "code",
      "source": [
        "logging.info('this is my info')\n",
        "logging.info('this is my info log')\n",
        "logging.debug('this is my debug log')\n",
        "logging.warning('this is my warning log')\n",
        "logging.error('this is my error log')\n",
        "logging.critical('this is my critical log')"
      ],
      "metadata": {
        "colab": {
          "base_uri": "https://localhost:8080/"
        },
        "id": "NjaQSLC1ButV",
        "outputId": "978bcaae-9035-49f5-bdfd-4e0fac023270"
      },
      "execution_count": null,
      "outputs": [
        {
          "output_type": "stream",
          "name": "stderr",
          "text": [
            "WARNING:root:this is my warning log\n",
            "ERROR:root:this is my error log\n",
            "CRITICAL:root:this is my critical log\n"
          ]
        }
      ]
    },
    {
      "cell_type": "code",
      "source": [
        "l=[1,2,3,4,[5,6],'vij','ghr']"
      ],
      "metadata": {
        "id": "7B2LFH9lAYuO"
      },
      "execution_count": null,
      "outputs": []
    },
    {
      "cell_type": "code",
      "source": [
        "l1_int=[]\n",
        "l2_str=[]\n",
        "for i in l:\n",
        "  logging.info('we are iterating through our list and our local var is {}'.format(l))\n",
        "  if type(i)==list:\n",
        "    for j in i:\n",
        "      if type(j)==int:\n",
        "        l1_int.append(j)\n",
        "  elif type(i)==int:\n",
        "    l1_int.append(i)\n",
        "  else:\n",
        "    if type(i)==str:\n",
        "        l2_str.append(i)"
      ],
      "metadata": {
        "id": "c1mu5XCOAYxV"
      },
      "execution_count": null,
      "outputs": []
    },
    {
      "cell_type": "code",
      "source": [
        "l1_int"
      ],
      "metadata": {
        "colab": {
          "base_uri": "https://localhost:8080/"
        },
        "id": "YDWfa9o-AY04",
        "outputId": "0cd03c39-c8ab-441a-b042-6dc2c2f4d146"
      },
      "execution_count": null,
      "outputs": [
        {
          "output_type": "execute_result",
          "data": {
            "text/plain": [
              "[1, 2, 3, 4, 5, 6]"
            ]
          },
          "metadata": {},
          "execution_count": 45
        }
      ]
    },
    {
      "cell_type": "code",
      "source": [],
      "metadata": {
        "id": "81GmUSeu-XqT"
      },
      "execution_count": null,
      "outputs": []
    },
    {
      "cell_type": "code",
      "source": [],
      "metadata": {
        "id": "ZApkFaax-Xt4"
      },
      "execution_count": null,
      "outputs": []
    },
    {
      "cell_type": "code",
      "source": [],
      "metadata": {
        "id": "SQpuUs4A-YX0"
      },
      "execution_count": null,
      "outputs": []
    },
    {
      "cell_type": "code",
      "source": [],
      "metadata": {
        "id": "Ch2pSKvh-YaT"
      },
      "execution_count": null,
      "outputs": []
    },
    {
      "cell_type": "code",
      "source": [],
      "metadata": {
        "id": "F_hPy1Cn-Yd1"
      },
      "execution_count": null,
      "outputs": []
    }
  ]
}