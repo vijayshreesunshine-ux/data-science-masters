{
  "nbformat": 4,
  "nbformat_minor": 0,
  "metadata": {
    "colab": {
      "provenance": [],
      "include_colab_link": true
    },
    "kernelspec": {
      "name": "python3",
      "display_name": "Python 3"
    },
    "language_info": {
      "name": "python"
    }
  },
  "cells": [
    {
      "cell_type": "markdown",
      "metadata": {
        "id": "view-in-github",
        "colab_type": "text"
      },
      "source": [
        "<a href=\"https://colab.research.google.com/github/vijayshreesunshine-ux/data-science-masters/blob/main/Matlab_basicprograms.ipynb\" target=\"_parent\"><img src=\"https://colab.research.google.com/assets/colab-badge.svg\" alt=\"Open In Colab\"/></a>"
      ]
    },
    {
      "cell_type": "code",
      "source": [
        "a = int(input('enter first number (a):'));"
      ],
      "metadata": {
        "colab": {
          "base_uri": "https://localhost:8080/"
        },
        "id": "CG1Bm0V8vaL5",
        "outputId": "d6d39e38-de4e-4353-ac3f-519f43fa556b"
      },
      "execution_count": 6,
      "outputs": [
        {
          "name": "stdout",
          "output_type": "stream",
          "text": [
            "enter first number (a):30\n"
          ]
        }
      ]
    },
    {
      "cell_type": "code",
      "source": [
        "b = int(input(' enter second number (b):'));"
      ],
      "metadata": {
        "colab": {
          "base_uri": "https://localhost:8080/"
        },
        "id": "gzVOvVbDv0jA",
        "outputId": "31b1b36c-6cef-4372-ed46-db9daa137158"
      },
      "execution_count": 7,
      "outputs": [
        {
          "name": "stdout",
          "output_type": "stream",
          "text": [
            " enter second number (b):20\n"
          ]
        }
      ]
    },
    {
      "cell_type": "code",
      "source": [
        "add_result = a + b;"
      ],
      "metadata": {
        "id": "wBZBLb9HwKW3"
      },
      "execution_count": 8,
      "outputs": []
    },
    {
      "cell_type": "code",
      "source": [
        "sub_result = a - b;"
      ],
      "metadata": {
        "id": "y63kcd6mwKaF"
      },
      "execution_count": 9,
      "outputs": []
    },
    {
      "cell_type": "code",
      "source": [
        "mul_result = a * b;"
      ],
      "metadata": {
        "id": "wK_FBFNnwKcq"
      },
      "execution_count": 10,
      "outputs": []
    },
    {
      "cell_type": "code",
      "source": [
        "div_result = a / b;"
      ],
      "metadata": {
        "id": "ic9aBXwXwKe7"
      },
      "execution_count": 11,
      "outputs": []
    },
    {
      "cell_type": "code",
      "source": [
        "pow_result = a ^ b;"
      ],
      "metadata": {
        "id": "wJZ5tD08xWNW"
      },
      "execution_count": 12,
      "outputs": []
    },
    {
      "cell_type": "code",
      "source": [
        "print('Addition: %d + %d = %d\\n', a, b, add_result);"
      ],
      "metadata": {
        "colab": {
          "base_uri": "https://localhost:8080/"
        },
        "id": "ZvgOCV0uxWQT",
        "outputId": "01452228-3845-41dd-f6ee-c640806ba719"
      },
      "execution_count": 15,
      "outputs": [
        {
          "output_type": "stream",
          "name": "stdout",
          "text": [
            "Addition: %d + %d = %d\n",
            " 30 20 50\n"
          ]
        }
      ]
    },
    {
      "cell_type": "code",
      "source": [
        "print('Subtraction: %d - %d = %d\\n', a, b, sub_result);"
      ],
      "metadata": {
        "colab": {
          "base_uri": "https://localhost:8080/"
        },
        "id": "gdwl22p_x3wb",
        "outputId": "c7cfb5ae-36a2-4732-9abe-61fa5b798a36"
      },
      "execution_count": 16,
      "outputs": [
        {
          "output_type": "stream",
          "name": "stdout",
          "text": [
            "Subtraction: %d - %d = %d\n",
            " 30 20 10\n"
          ]
        }
      ]
    },
    {
      "cell_type": "code",
      "source": [
        "print('Multiplication: %d * %d = %d\\n', a, b, mul_result);"
      ],
      "metadata": {
        "colab": {
          "base_uri": "https://localhost:8080/"
        },
        "id": "S6k0u4Zpx5dk",
        "outputId": "986c9e4a-5510-4d92-8cf1-8908ea5160c8"
      },
      "execution_count": 17,
      "outputs": [
        {
          "output_type": "stream",
          "name": "stdout",
          "text": [
            "Multiplication: %d * %d = %d\n",
            " 30 20 600\n"
          ]
        }
      ]
    },
    {
      "cell_type": "code",
      "source": [
        "print('Division: %d / %d = %.2f\\n', a, b, div_result);"
      ],
      "metadata": {
        "colab": {
          "base_uri": "https://localhost:8080/"
        },
        "id": "LOBzpPKbx5gc",
        "outputId": "f5050a57-2806-490b-b4a4-76b23728e849"
      },
      "execution_count": 18,
      "outputs": [
        {
          "output_type": "stream",
          "name": "stdout",
          "text": [
            "Division: %d / %d = %.2f\n",
            " 30 20 1.5\n"
          ]
        }
      ]
    },
    {
      "cell_type": "code",
      "source": [
        "print('Power: %d ^ %d = %d\\n', a, b, pow_result);"
      ],
      "metadata": {
        "colab": {
          "base_uri": "https://localhost:8080/"
        },
        "id": "9bCXPFEAx5jR",
        "outputId": "63d7587f-5ac5-4fdb-a805-c0e652db6dff"
      },
      "execution_count": 19,
      "outputs": [
        {
          "output_type": "stream",
          "name": "stdout",
          "text": [
            "Power: %d ^ %d = %d\n",
            " 30 20 10\n"
          ]
        }
      ]
    },
    {
      "cell_type": "code",
      "source": [
        "x = float(input('Enter a number for mathematical functions: '));"
      ],
      "metadata": {
        "colab": {
          "base_uri": "https://localhost:8080/"
        },
        "id": "87HjFousx5lq",
        "outputId": "c9df9c55-d11e-48a8-a547-91b592ff34f5"
      },
      "execution_count": 24,
      "outputs": [
        {
          "name": "stdout",
          "output_type": "stream",
          "text": [
            "Enter a number for mathematical functions: 5\n"
          ]
        }
      ]
    },
    {
      "cell_type": "code",
      "source": [
        "import math\n",
        "\n",
        "sqrt_val = math.sqrt(x);\n",
        "sin_val  = math.sin(x);\n",
        "cos_val  = math.cos(x);\n",
        "log_val  = math.log(x);\n",
        "exp_val  = math.exp(x);"
      ],
      "metadata": {
        "id": "wFSiQM_Yx35w"
      },
      "execution_count": 25,
      "outputs": []
    },
    {
      "cell_type": "code",
      "source": [
        "print('Square root of %.2f = %.2f\\n', x, sqrt_val);\n",
        "print('sin(%.2f) = %.2f\\n', x, sin_val);\n",
        "print('cos(%.2f) = %.2f\\n', x, cos_val);\n",
        "print('Natural log of %.2f = %.2f\\n', x, log_val);\n",
        "print('Exponential e^%.2f = %.2f\\n\\n', x, exp_val);"
      ],
      "metadata": {
        "colab": {
          "base_uri": "https://localhost:8080/"
        },
        "id": "Vp_prlXTzYLy",
        "outputId": "7e3ce1d2-0e52-4293-d462-2aa00cef6ef9"
      },
      "execution_count": 26,
      "outputs": [
        {
          "output_type": "stream",
          "name": "stdout",
          "text": [
            "Square root of %.2f = %.2f\n",
            " 5.0 2.23606797749979\n",
            "sin(%.2f) = %.2f\n",
            " 5.0 -0.9589242746631385\n",
            "cos(%.2f) = %.2f\n",
            " 5.0 0.28366218546322625\n",
            "Natural log of %.2f = %.2f\n",
            " 5.0 1.6094379124341003\n",
            "Exponential e^%.2f = %.2f\n",
            "\n",
            " 5.0 148.4131591025766\n"
          ]
        }
      ]
    },
    {
      "cell_type": "code",
      "source": [
        "n = int(input('Enter the limit for square calculation: '));"
      ],
      "metadata": {
        "colab": {
          "base_uri": "https://localhost:8080/"
        },
        "id": "OjcpuGuVzmpg",
        "outputId": "0da085a1-cfd3-4025-bd68-c66c5f1198de"
      },
      "execution_count": 30,
      "outputs": [
        {
          "name": "stdout",
          "output_type": "stream",
          "text": [
            "Enter the limit for square calculation: 5\n"
          ]
        }
      ]
    },
    {
      "cell_type": "code",
      "source": [],
      "metadata": {
        "id": "3l2tD26fzp4B"
      },
      "execution_count": null,
      "outputs": []
    },
    {
      "cell_type": "code",
      "source": [
        "print(f'Squares of first {n} numbers:\\n');\n",
        "for i in range(1, n + 1):\n",
        "    print(f'{i}^2 = {i**2}');\n",
        "print('\\n');"
      ],
      "metadata": {
        "colab": {
          "base_uri": "https://localhost:8080/"
        },
        "id": "JhhRZj5vzn75",
        "outputId": "7000607b-b24e-484e-d5e6-27c31968d2b4"
      },
      "execution_count": 31,
      "outputs": [
        {
          "output_type": "stream",
          "name": "stdout",
          "text": [
            "Squares of first 5 numbers:\n",
            "\n",
            "1^2 = 1\n",
            "2^2 = 4\n",
            "3^2 = 9\n",
            "4^2 = 16\n",
            "5^2 = 25\n",
            "\n",
            "\n"
          ]
        }
      ]
    },
    {
      "cell_type": "code",
      "source": [
        "import math\n",
        "num = int(input('Enter a number to check even or odd: '));\n",
        "if num % 2 == 0:\n",
        "    print(f'{num} is Even\\n');\n",
        "else:\n",
        "    print(f'{num} is Odd\\n');"
      ],
      "metadata": {
        "colab": {
          "base_uri": "https://localhost:8080/"
        },
        "id": "5TL1UuxP0q_F",
        "outputId": "d1832565-2125-4ca3-ced9-74699f2f9b05"
      },
      "execution_count": 37,
      "outputs": [
        {
          "output_type": "stream",
          "name": "stdout",
          "text": [
            "Enter a number to check even or odd: 5\n",
            "5 is Odd\n",
            "\n"
          ]
        }
      ]
    },
    {
      "cell_type": "code",
      "source": [
        "import numpy as np\n",
        "import matplotlib.pyplot as plt\n",
        "\n",
        "impulse = np.concatenate((np.zeros(5), [1], np.zeros(5)));\n",
        "n = np.arange(len(impulse));\n",
        "\n",
        "plt.subplot(3,1,1);\n",
        "plt.stem(n, impulse);\n",
        "plt.title('Unit Impulse Signal');\n",
        "plt.xlabel('n');\n",
        "plt.ylabel('δ[n]');\n",
        "plt.show();"
      ],
      "metadata": {
        "colab": {
          "base_uri": "https://localhost:8080/",
          "height": 121
        },
        "id": "oPG9Pte81doI",
        "outputId": "c98e2b57-ce13-43e1-c70a-95f0833c8956"
      },
      "execution_count": 53,
      "outputs": [
        {
          "output_type": "display_data",
          "data": {
            "text/plain": [
              "<Figure size 640x480 with 1 Axes>"
            ],
            "image/png": "[encoded data removed]"
          },
          "metadata": {}
        }
      ]
    },
    {
      "cell_type": "code",
      "source": [
        "import numpy as np\n",
        "import matplotlib.pyplot as plt\n",
        "\n",
        "step = np.concatenate((np.zeros(5), np.ones(6)));\n",
        "n = np.arange(len(step));\n",
        "\n",
        "plt.subplot(3,1,2);\n",
        "plt.stem(n, step);\n",
        "plt.title('Unit Step Signal');\n",
        "plt.xlabel('n');\n",
        "plt.ylabel('u[n]');\n",
        "plt.show();"
      ],
      "metadata": {
        "colab": {
          "base_uri": "https://localhost:8080/",
          "height": 121
        },
        "id": "mpona-9p1dvO",
        "outputId": "7e5cff7c-e7ac-4ef4-d47a-a7274011b441"
      },
      "execution_count": 46,
      "outputs": [
        {
          "output_type": "display_data",
          "data": {
            "text/plain": [
              "<Figure size 640x480 with 1 Axes>"
            ],
            "image/png": "[encoded data removed]"
          },
          "metadata": {}
        }
      ]
    },
    {
      "cell_type": "code",
      "source": [
        "import numpy as np\n",
        "import matplotlib.pyplot as plt\n",
        "\n",
        "ramp = np.concatenate((np.zeros(5), np.arange(6)));\n",
        "n = np.arange(len(ramp));\n",
        "\n",
        "plt.subplot(3,1,3);\n",
        "plt.stem(n, ramp);\n",
        "plt.title('Unit Ramp Signal');\n",
        "plt.xlabel('n');\n",
        "plt.ylabel('r[n]');\n",
        "plt.show();"
      ],
      "metadata": {
        "colab": {
          "base_uri": "https://localhost:8080/",
          "height": 123
        },
        "id": "MxEqZwfm3Cbh",
        "outputId": "6827060a-3091-4094-caa5-bdff8d052b3e"
      },
      "execution_count": 51,
      "outputs": [
        {
          "output_type": "display_data",
          "data": {
            "text/plain": [
              "<Figure size 640x480 with 1 Axes>"
            ],
            "image/png": "[encoded data removed]"
          },
          "metadata": {}
        }
      ]
    },
    {
      "cell_type": "code",
      "source": [],
      "metadata": {
        "id": "g7LuX06u3Cvv"
      },
      "execution_count": null,
      "outputs": []
    }
  ]
}