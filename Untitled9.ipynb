{
  "nbformat": 4,
  "nbformat_minor": 0,
  "metadata": {
    "colab": {
      "provenance": [],
      "authorship_tag": "ABX9TyNES2qa3O4ZG+8MzjMSqo5F",
      "include_colab_link": true
    },
    "kernelspec": {
      "name": "python3",
      "display_name": "Python 3"
    },
    "language_info": {
      "name": "python"
    }
  },
  "cells": [
    {
      "cell_type": "markdown",
      "metadata": {
        "id": "view-in-github",
        "colab_type": "text"
      },
      "source": [
        "<a href=\"https://colab.research.google.com/github/vijayshreesunshine-ux/data-science-masters/blob/main/Untitled9.ipynb\" target=\"_parent\"><img src=\"https://colab.research.google.com/assets/colab-badge.svg\" alt=\"Open In Colab\"/></a>"
      ]
    },
    {
      "cell_type": "code",
      "execution_count": null,
      "metadata": {
        "id": "eq7eQ-LUC3xE"
      },
      "outputs": [],
      "source": [
        "#Inheritance in Python is a fundamental concept in object-oriented programming (OOP) that allows a new class, known as the child class, subclass, or derived class, to inherit attributes and methods from an existing class, known as the parent class, superclass, or base class. This mechanism promotes code reusability, extensibility,\n",
        "#and the creation of a hierarchical structure among classes."
      ]
    },
    {
      "cell_type": "code",
      "source": [
        "class parent:\n",
        "  def fdg_parent(self):\n",
        "    return \"this is my parent class\"\n",
        "class child (parent):\n",
        "  pass\n",
        "child_obj=child()\n",
        "child_obj.fdg_parent()"
      ],
      "metadata": {
        "colab": {
          "base_uri": "https://localhost:8080/",
          "height": 35
        },
        "id": "9DTLPo-aDRNZ",
        "outputId": "567ad4b1-2207-4088-9254-d6e8e802b37d"
      },
      "execution_count": null,
      "outputs": [
        {
          "output_type": "execute_result",
          "data": {
            "text/plain": [
              "'this is my parent class'"
            ],
            "application/vnd.google.colaboratory.intrinsic+json": {
              "type": "string"
            }
          },
          "metadata": {},
          "execution_count": 4
        }
      ]
    },
    {
      "cell_type": "code",
      "source": [
        "class class_1:\n",
        "  def test_class_1(self):\n",
        "    return\"i m in cse\"\n",
        "class class_2(class_1):\n",
        "  def test_class_2(self):\n",
        "    return\"i m in civil\"\n",
        "class class_3(class_2):\n",
        "  def test_class_3(self):\n",
        "    return\"i m in mech\"\n",
        "obj_class_3=class_3()\n",
        "print(obj_class_3.test_class_1())\n",
        "print(obj_class_3.test_class_2())\n",
        "print(obj_class_3.test_class_3())"
      ],
      "metadata": {
        "colab": {
          "base_uri": "https://localhost:8080/"
        },
        "id": "mRmNw-A6DRPz",
        "outputId": "ade4c5ec-d8f7-4b05-faaa-51dee3eae921"
      },
      "execution_count": null,
      "outputs": [
        {
          "output_type": "stream",
          "name": "stdout",
          "text": [
            "i m in cse\n",
            "i m in civil\n",
            "i m in mech\n"
          ]
        }
      ]
    },
    {
      "cell_type": "code",
      "source": [
        "class class1:\n",
        "  def test_class1(self):\n",
        "    return\"this is class1\"\n",
        "class class2:\n",
        "  def test_class2(self):\n",
        "    return\"this is class2\"\n",
        "class class3(class1,class2):\n",
        "  pass\n",
        "obj_class3=class3()\n",
        "print(obj_class3.test_class1())\n",
        "print(obj_class3.test_class2())"
      ],
      "metadata": {
        "colab": {
          "base_uri": "https://localhost:8080/"
        },
        "id": "yotr7D5jHIVO",
        "outputId": "c5a035a6-70b5-4a94-e2a8-f723448dbdfe"
      },
      "execution_count": null,
      "outputs": [
        {
          "output_type": "stream",
          "name": "stdout",
          "text": [
            "this is class1\n",
            "this is class2\n"
          ]
        }
      ]
    },
    {
      "cell_type": "code",
      "source": [],
      "metadata": {
        "id": "2auN4rc8HIXo"
      },
      "execution_count": null,
      "outputs": []
    },
    {
      "cell_type": "code",
      "source": [],
      "metadata": {
        "id": "iGkSha9jHIaI"
      },
      "execution_count": null,
      "outputs": []
    },
    {
      "cell_type": "code",
      "source": [],
      "metadata": {
        "id": "MO8xpyZ0HIc2"
      },
      "execution_count": null,
      "outputs": []
    },
    {
      "cell_type": "code",
      "source": [],
      "metadata": {
        "id": "uD95fHdaHIfV"
      },
      "execution_count": null,
      "outputs": []
    },
    {
      "cell_type": "code",
      "source": [],
      "metadata": {
        "id": "mJSmih2MHIjL"
      },
      "execution_count": null,
      "outputs": []
    },
    {
      "cell_type": "code",
      "source": [],
      "metadata": {
        "id": "f4s9bDEaDRSp"
      },
      "execution_count": null,
      "outputs": []
    }
  ]
}