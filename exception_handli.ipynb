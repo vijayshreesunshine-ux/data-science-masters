{
  "nbformat": 4,
  "nbformat_minor": 0,
  "metadata": {
    "colab": {
      "provenance": []
    },
    "kernelspec": {
      "name": "python3",
      "display_name": "Python 3"
    },
    "language_info": {
      "name": "python"
    }
  },
  "cells": [
    {
      "cell_type": "code",
      "execution_count": null,
      "metadata": {
        "id": "-7Ai2akM4iJF"
      },
      "outputs": [],
      "source": [
        "#use always a specific exception"
      ]
    },
    {
      "cell_type": "code",
      "source": [],
      "metadata": {
        "id": "saz-_eIj46eL"
      },
      "execution_count": null,
      "outputs": []
    },
    {
      "cell_type": "code",
      "source": [
        "try:\n",
        "  10/0\n",
        "except Exception as e:\n",
        "  print(e)"
      ],
      "metadata": {
        "colab": {
          "base_uri": "https://localhost:8080/"
        },
        "id": "HFeTimX846gw",
        "outputId": "d9629d3d-ce35-4da6-eeff-0308a5100596"
      },
      "execution_count": 1,
      "outputs": [
        {
          "output_type": "stream",
          "name": "stdout",
          "text": [
            "division by zero\n"
          ]
        }
      ]
    },
    {
      "cell_type": "code",
      "source": [
        "#print always a valid msg"
      ],
      "metadata": {
        "id": "0wxvJRFC46jH"
      },
      "execution_count": null,
      "outputs": []
    },
    {
      "cell_type": "code",
      "source": [
        "try:\n",
        "  10/0\n",
        "except ZeroDivisionError as e:\n",
        "  print(\"i am trying to handle a zerodivision error\",e)"
      ],
      "metadata": {
        "colab": {
          "base_uri": "https://localhost:8080/"
        },
        "id": "k-KOrseh46l7",
        "outputId": "522e5ee7-5502-47ce-d680-acdd453f13bc"
      },
      "execution_count": 2,
      "outputs": [
        {
          "output_type": "stream",
          "name": "stdout",
          "text": [
            "i am trying to handle a zerodivision error division by zero\n"
          ]
        }
      ]
    },
    {
      "cell_type": "code",
      "source": [
        "#always try to log"
      ],
      "metadata": {
        "id": "owsiH06s46or"
      },
      "execution_count": null,
      "outputs": []
    },
    {
      "cell_type": "code",
      "source": [
        "import logging\n",
        "logging.basicConfig(filename=\"error.log\",level=logging.ERROR)\n",
        "try:\n",
        "  10/0\n",
        "except ZeroDivisionError as e:\n",
        "  logging.error(\"i am trying to handle a zerodivision error {}\".format(e))\n"
      ],
      "metadata": {
        "colab": {
          "base_uri": "https://localhost:8080/"
        },
        "id": "9ws-0C9d46rN",
        "outputId": "457a409b-b999-4632-ef44-eb0f70540356"
      },
      "execution_count": 3,
      "outputs": [
        {
          "output_type": "stream",
          "name": "stderr",
          "text": [
            "ERROR:root:i am trying to handle a zerodivision error division by zero\n"
          ]
        }
      ]
    },
    {
      "cell_type": "code",
      "source": [
        "#always avoid to write a multiplt exception handling"
      ],
      "metadata": {
        "id": "pRGFB-HS46uA"
      },
      "execution_count": null,
      "outputs": []
    },
    {
      "cell_type": "code",
      "source": [
        "try:\n",
        "\n",
        "  10/0\n",
        "except FileNotFoundError as e:\n",
        "  logging.error(\"i am handling file not found {}\".format(e))\n",
        "except AttributeError as e:\n",
        "  logging.error(\"i am handling attribute error {}\".format(e))\n",
        "except ZeroDivisionError as e:\n",
        "  logging.error(\"i am handling zero division error {}\".format(e))"
      ],
      "metadata": {
        "colab": {
          "base_uri": "https://localhost:8080/"
        },
        "id": "errOn8x646xB",
        "outputId": "2e7c59b2-5329-4d87-9502-a8f37d8f902b"
      },
      "execution_count": 6,
      "outputs": [
        {
          "output_type": "stream",
          "name": "stderr",
          "text": [
            "ERROR:root:i am handling zero division error division by zero\n"
          ]
        }
      ]
    },
    {
      "cell_type": "code",
      "source": [
        "#perpare a proper documentation"
      ],
      "metadata": {
        "id": "6vuEe8CN460H"
      },
      "execution_count": null,
      "outputs": []
    },
    {
      "cell_type": "code",
      "source": [
        "#cleanup all the resources"
      ],
      "metadata": {
        "id": "2aZ-GW3G4626"
      },
      "execution_count": null,
      "outputs": []
    },
    {
      "cell_type": "code",
      "source": [
        "try:\n",
        "  with open(\"test.txt\",\"w\") as f:\n",
        "    f.write(\"this is my msg to file\")\n",
        "except FileNotFoundError as e:\n",
        "  logging.error(\"this is my file not found {}\".format(e))\n",
        "finally:\n",
        "  f.close()"
      ],
      "metadata": {
        "id": "FWouGE9d465z"
      },
      "execution_count": 7,
      "outputs": []
    },
    {
      "cell_type": "code",
      "source": [],
      "metadata": {
        "id": "_aOV_Lg-469L"
      },
      "execution_count": null,
      "outputs": []
    },
    {
      "cell_type": "code",
      "source": [],
      "metadata": {
        "id": "Sbu5PDDl7WMG"
      },
      "execution_count": null,
      "outputs": []
    },
    {
      "cell_type": "code",
      "source": [],
      "metadata": {
        "id": "vV0a0g367WOm"
      },
      "execution_count": null,
      "outputs": []
    },
    {
      "cell_type": "code",
      "source": [],
      "metadata": {
        "id": "TVeKIJ2n7WRb"
      },
      "execution_count": null,
      "outputs": []
    },
    {
      "cell_type": "code",
      "source": [],
      "metadata": {
        "id": "E2IEXxph7WUD"
      },
      "execution_count": null,
      "outputs": []
    },
    {
      "cell_type": "code",
      "source": [],
      "metadata": {
        "id": "-a15FdAZ7WWe"
      },
      "execution_count": null,
      "outputs": []
    },
    {
      "cell_type": "code",
      "source": [],
      "metadata": {
        "id": "K56_TNoL7WY6"
      },
      "execution_count": null,
      "outputs": []
    },
    {
      "cell_type": "code",
      "source": [],
      "metadata": {
        "id": "jzZio76Q7Wcc"
      },
      "execution_count": null,
      "outputs": []
    },
    {
      "cell_type": "code",
      "source": [],
      "metadata": {
        "id": "Hq3ffSQA7WkK"
      },
      "execution_count": null,
      "outputs": []
    }
  ]
}