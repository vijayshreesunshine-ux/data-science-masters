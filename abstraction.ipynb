{
  "nbformat": 4,
  "nbformat_minor": 0,
  "metadata": {
    "colab": {
      "provenance": [],
      "authorship_tag": "ABX9TyPRgeYNgWUMPOCAHy1YBWVH",
      "include_colab_link": true
    },
    "kernelspec": {
      "name": "python3",
      "display_name": "Python 3"
    },
    "language_info": {
      "name": "python"
    }
  },
  "cells": [
    {
      "cell_type": "markdown",
      "metadata": {
        "id": "view-in-github",
        "colab_type": "text"
      },
      "source": [
        "<a href=\"https://colab.research.google.com/github/vijayshreesunshine-ux/data-science-masters/blob/main/abstraction.ipynb\" target=\"_parent\"><img src=\"https://colab.research.google.com/assets/colab-badge.svg\" alt=\"Open In Colab\"/></a>"
      ]
    },
    {
      "cell_type": "code",
      "execution_count": null,
      "metadata": {
        "id": "0uzEExz-I2TM"
      },
      "outputs": [],
      "source": [
        "***Abstraction in Python,\n",
        " a core principle of Object-Oriented Programming (OOP),\n",
        "  focuses on hiding complex implementation details\n",
        "   and exposing only the essential functionalities to the user.\n",
        "   This allows users to interact with an object or\n",
        "    system without needing to understand its internal workings.***\n"
      ]
    },
    {
      "cell_type": "code",
      "source": [
        "import abc\n",
        "class pwskills:\n",
        "    @abc.abstractmethod\n",
        "    def student_details(self):\n",
        "        pass\n",
        "    @abc.abstractmethod\n",
        "    def student_assignment(self):\n",
        "        pass\n",
        "    @abc.abstractmethod\n",
        "    def student_marks(self):\n",
        "        pass\n",
        "class data_science(pwskills):\n",
        "    def student_details(self):\n",
        "        return \"this will return a student details for data science masters\"\n",
        "    def student_assignment(self):\n",
        "        return \"this will give you a student assignment details for data science masters\"\n",
        "    def student_marks(self):\n",
        "        # This method is not implemented in the original code, adding a placeholder\n",
        "        pass\n",
        "\n",
        "class web_dev(pwskills):\n",
        "    def student_details(self):\n",
        "        return \"this will return a student details for web dev\"\n",
        "    def student_assignment(self):\n",
        "        # This method is not implemented in the original code, adding a placeholder\n",
        "        pass\n",
        "    def student_marks(self):\n",
        "        return \"this will return a student marks for web dev class\"\n",
        "\n",
        "ds = data_science()\n",
        "wd = web_dev()\n",
        "print(ds.student_assignment())\n",
        "wd.student_details()"
      ],
      "metadata": {
        "colab": {
          "base_uri": "https://localhost:8080/",
          "height": 53
        },
        "id": "ht7ZzQ7XI5Kg",
        "outputId": "afdaf4df-e4f2-46ad-a522-7e31881d8f0e"
      },
      "execution_count": null,
      "outputs": [
        {
          "output_type": "stream",
          "name": "stdout",
          "text": [
            "this will give you a student assignment details for data science masters\n"
          ]
        },
        {
          "output_type": "execute_result",
          "data": {
            "text/plain": [
              "'this will return a student details for web dev'"
            ],
            "application/vnd.google.colaboratory.intrinsic+json": {
              "type": "string"
            }
          },
          "metadata": {},
          "execution_count": 7
        }
      ]
    },
    {
      "cell_type": "code",
      "source": [],
      "metadata": {
        "id": "V1ZRIQWuKjNX"
      },
      "execution_count": null,
      "outputs": []
    },
    {
      "cell_type": "code",
      "source": [],
      "metadata": {
        "id": "kd9clntoKjQP"
      },
      "execution_count": null,
      "outputs": []
    },
    {
      "cell_type": "code",
      "source": [],
      "metadata": {
        "id": "KBlmHqllKjTE"
      },
      "execution_count": null,
      "outputs": []
    },
    {
      "cell_type": "code",
      "source": [],
      "metadata": {
        "id": "hc_UuDULKjVu"
      },
      "execution_count": null,
      "outputs": []
    },
    {
      "cell_type": "code",
      "source": [],
      "metadata": {
        "id": "UF2ewGVXI5Oo"
      },
      "execution_count": null,
      "outputs": []
    },
    {
      "cell_type": "code",
      "source": [],
      "metadata": {
        "id": "iTRlvketI5TL"
      },
      "execution_count": null,
      "outputs": []
    },
    {
      "cell_type": "code",
      "metadata": {
        "id": "10da58e0"
      },
      "source": [
        "ds.student_assignment()"
      ],
      "execution_count": null,
      "outputs": []
    }
  ]
}