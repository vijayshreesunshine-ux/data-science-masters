{
  "nbformat": 4,
  "nbformat_minor": 0,
  "metadata": {
    "colab": {
      "provenance": []
    },
    "kernelspec": {
      "name": "python3",
      "display_name": "Python 3"
    },
    "language_info": {
      "name": "python"
    }
  },
  "cells": [
    {
      "cell_type": "code",
      "execution_count": 3,
      "metadata": {
        "colab": {
          "base_uri": "https://localhost:8080/",
          "height": 158
        },
        "id": "2G-U-FFmKhV4",
        "outputId": "1cc607a5-fd91-4070-c57b-8497a38f41c2"
      },
      "outputs": [
        {
          "output_type": "error",
          "ename": "FileNotFoundError",
          "evalue": "[Errno 2] No such file or directory: 'file.txt'",
          "traceback": [
            "\u001b[0;31m---------------------------------------------------------------------------\u001b[0m",
            "\u001b[0;31mFileNotFoundError\u001b[0m                         Traceback (most recent call last)",
            "\u001b[0;32m/tmp/ipython-input-2063235264.py\u001b[0m in \u001b[0;36m<cell line: 0>\u001b[0;34m()\u001b[0m\n\u001b[0;32m----> 1\u001b[0;31m \u001b[0mf\u001b[0m\u001b[0;34m=\u001b[0m\u001b[0mopen\u001b[0m\u001b[0;34m(\u001b[0m\u001b[0;34m\"file.txt\"\u001b[0m\u001b[0;34m,\u001b[0m\u001b[0;34m\"r\"\u001b[0m\u001b[0;34m)\u001b[0m\u001b[0;34m\u001b[0m\u001b[0;34m\u001b[0m\u001b[0m\n\u001b[0m\u001b[1;32m      2\u001b[0m \u001b[0mprint\u001b[0m\u001b[0;34m(\u001b[0m\u001b[0mf\u001b[0m\u001b[0;34m.\u001b[0m\u001b[0mread\u001b[0m\u001b[0;34m(\u001b[0m\u001b[0;34m)\u001b[0m\u001b[0;34m)\u001b[0m\u001b[0;34m\u001b[0m\u001b[0;34m\u001b[0m\u001b[0m\n",
            "\u001b[0;31mFileNotFoundError\u001b[0m: [Errno 2] No such file or directory: 'file.txt'"
          ]
        }
      ],
      "source": [
        "f=open(\"file.txt\",\"r\")\n",
        "print(f.read())\n"
      ]
    },
    {
      "cell_type": "code",
      "source": [
        "try:\n",
        "  f=open(\"file.txt\",\"r\")\n",
        "\n",
        "except Exception as e:\n",
        "  print('mckrcoe',e)"
      ],
      "metadata": {
        "colab": {
          "base_uri": "https://localhost:8080/"
        },
        "id": "zh7Iv_twKnIQ",
        "outputId": "fffb434d-3d33-434a-80e5-087602bef4d4"
      },
      "execution_count": 4,
      "outputs": [
        {
          "output_type": "stream",
          "name": "stdout",
          "text": [
            "mckrcoe [Errno 2] No such file or directory: 'file.txt'\n"
          ]
        }
      ]
    },
    {
      "cell_type": "code",
      "source": [
        "try:\n",
        "  f=open(\"test.txt\",\"w\")\n",
        "  f.write(\"hello\")\n",
        "\n",
        "\n",
        "except Exception as e:\n",
        "  print('mckrcoe',e)\n",
        "else:\n",
        "  f.close()\n",
        "  print(\"file is cmcompmv rijv vnrowl.a ckop\")"
      ],
      "metadata": {
        "colab": {
          "base_uri": "https://localhost:8080/"
        },
        "id": "ZlwKQS9_MuuC",
        "outputId": "4a9ce30a-d6a8-4497-d813-088610eb0d29"
      },
      "execution_count": 10,
      "outputs": [
        {
          "output_type": "stream",
          "name": "stdout",
          "text": [
            "file is cmcompmv rijv vnrowl.a ckop\n"
          ]
        }
      ]
    },
    {
      "cell_type": "code",
      "source": [
        "try:\n",
        "  f=open(\"test.txt\",\"r\")\n",
        "  f.write(\"hello\")\n",
        "\n",
        "\n",
        "except Exception as e:\n",
        "  print('mckrcoe ifkdsvm ',e)\n",
        "else:\n",
        "  f.close()\n",
        "  print(\"file is cmcompmv rijv vnrowl.a ckop\")"
      ],
      "metadata": {
        "colab": {
          "base_uri": "https://localhost:8080/"
        },
        "id": "ii5pt3ZzMvTu",
        "outputId": "84df808e-ba0c-40ba-ec53-fefcf3aadecc"
      },
      "execution_count": 12,
      "outputs": [
        {
          "output_type": "stream",
          "name": "stdout",
          "text": [
            "mckrcoe ifkdsvm  not writable\n"
          ]
        }
      ]
    },
    {
      "cell_type": "code",
      "source": [
        "try:\n",
        "  f=open(\"test.txt\",\"r\")\n",
        "  f.write(\"hello\")\n",
        "finally:\n",
        "  print(\"file is closed\")"
      ],
      "metadata": {
        "colab": {
          "base_uri": "https://localhost:8080/",
          "height": 228
        },
        "id": "45yt1oP3KnK3",
        "outputId": "f7709639-5eb6-42ae-bd0d-08eda4e4e87b"
      },
      "execution_count": 14,
      "outputs": [
        {
          "output_type": "stream",
          "name": "stdout",
          "text": [
            "file is closed\n"
          ]
        },
        {
          "output_type": "error",
          "ename": "UnsupportedOperation",
          "evalue": "not writable",
          "traceback": [
            "\u001b[0;31m---------------------------------------------------------------------------\u001b[0m",
            "\u001b[0;31mUnsupportedOperation\u001b[0m                      Traceback (most recent call last)",
            "\u001b[0;32m/tmp/ipython-input-490204033.py\u001b[0m in \u001b[0;36m<cell line: 0>\u001b[0;34m()\u001b[0m\n\u001b[1;32m      1\u001b[0m \u001b[0;32mtry\u001b[0m\u001b[0;34m:\u001b[0m\u001b[0;34m\u001b[0m\u001b[0;34m\u001b[0m\u001b[0m\n\u001b[1;32m      2\u001b[0m   \u001b[0mf\u001b[0m\u001b[0;34m=\u001b[0m\u001b[0mopen\u001b[0m\u001b[0;34m(\u001b[0m\u001b[0;34m\"test.txt\"\u001b[0m\u001b[0;34m,\u001b[0m\u001b[0;34m\"r\"\u001b[0m\u001b[0;34m)\u001b[0m\u001b[0;34m\u001b[0m\u001b[0;34m\u001b[0m\u001b[0m\n\u001b[0;32m----> 3\u001b[0;31m   \u001b[0mf\u001b[0m\u001b[0;34m.\u001b[0m\u001b[0mwrite\u001b[0m\u001b[0;34m(\u001b[0m\u001b[0;34m\"hello\"\u001b[0m\u001b[0;34m)\u001b[0m\u001b[0;34m\u001b[0m\u001b[0;34m\u001b[0m\u001b[0m\n\u001b[0m\u001b[1;32m      4\u001b[0m \u001b[0;32mfinally\u001b[0m\u001b[0;34m:\u001b[0m\u001b[0;34m\u001b[0m\u001b[0;34m\u001b[0m\u001b[0m\n\u001b[1;32m      5\u001b[0m   \u001b[0mprint\u001b[0m\u001b[0;34m(\u001b[0m\u001b[0;34m\"file is closed\"\u001b[0m\u001b[0;34m)\u001b[0m\u001b[0;34m\u001b[0m\u001b[0;34m\u001b[0m\u001b[0m\n",
            "\u001b[0;31mUnsupportedOperation\u001b[0m: not writable"
          ]
        }
      ]
    },
    {
      "cell_type": "code",
      "source": [
        "try:\n",
        "  f=open(\"test.txt\",\"w\")\n",
        "  f.write(\"hello\")\n",
        "finally:\n",
        "  print(\"file is closed\")"
      ],
      "metadata": {
        "colab": {
          "base_uri": "https://localhost:8080/"
        },
        "id": "GlE1WsHNMtAy",
        "outputId": "5c973c2e-2c5b-45f9-bfc0-d27f92b3af6d"
      },
      "execution_count": 15,
      "outputs": [
        {
          "output_type": "stream",
          "name": "stdout",
          "text": [
            "file is closed\n"
          ]
        }
      ]
    },
    {
      "cell_type": "code",
      "source": [
        "\n",
        "try:\n",
        "  f=open(\"test.txt\",\"r\")\n",
        "  f.write(\"hello\")\n",
        "\n",
        "\n",
        "except Exception as e:\n",
        "  print('mckrcoe ifkdsvm ',e)\n",
        "else:\n",
        "  f.close()\n",
        "  print(\"file is cmcompmv rijv vnrowl.a ckop\")\n",
        "finally:\n",
        "  print(\"file is closed\")"
      ],
      "metadata": {
        "colab": {
          "base_uri": "https://localhost:8080/"
        },
        "id": "5ZsrAGXvKnNx",
        "outputId": "f6142850-c870-4593-d376-7b7b8c8c2859"
      },
      "execution_count": 17,
      "outputs": [
        {
          "output_type": "stream",
          "name": "stdout",
          "text": [
            "mckrcoe ifkdsvm  not writable\n",
            "file is closed\n"
          ]
        }
      ]
    },
    {
      "cell_type": "code",
      "source": [],
      "metadata": {
        "id": "pGTLEUd3KnQa"
      },
      "execution_count": null,
      "outputs": []
    },
    {
      "cell_type": "code",
      "source": [],
      "metadata": {
        "id": "vieqCn4KKnSP"
      },
      "execution_count": null,
      "outputs": []
    },
    {
      "cell_type": "code",
      "source": [],
      "metadata": {
        "id": "cHXs1SIuKnVq"
      },
      "execution_count": null,
      "outputs": []
    }
  ]
}